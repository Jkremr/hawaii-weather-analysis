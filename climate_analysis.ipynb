{
 "cells": [
  {
   "cell_type": "code",
   "execution_count": 1,
   "metadata": {
    "collapsed": false
   },
   "outputs": [],
   "source": [
    "import pandas as pd\n",
    "import sqlalchemy\n",
    "from sqlalchemy.ext.automap import automap_base\n",
    "from sqlalchemy.orm import Session\n",
    "from sqlalchemy import create_engine\n",
    "from sqlalchemy import func\n",
    "import matplotlib.pyplot as plt\n",
    "import datetime\n",
    "from dateutil.relativedelta import relativedelta"
   ]
  },
  {
   "cell_type": "code",
   "execution_count": 2,
   "metadata": {
    "collapsed": false
   },
   "outputs": [],
   "source": [
    "engine = create_engine(\"sqlite:///hawaii_weather.sqlite\")"
   ]
  },
  {
   "cell_type": "code",
   "execution_count": 3,
   "metadata": {
    "collapsed": true
   },
   "outputs": [],
   "source": [
    "Base = automap_base()"
   ]
  },
  {
   "cell_type": "code",
   "execution_count": 4,
   "metadata": {
    "collapsed": false
   },
   "outputs": [],
   "source": [
    "Base.prepare(engine, reflect=True)"
   ]
  },
  {
   "cell_type": "code",
   "execution_count": 5,
   "metadata": {
    "collapsed": false
   },
   "outputs": [
    {
     "name": "stdout",
     "output_type": "stream",
     "text": [
      "The hawaii_weather DB contains the following tables ['measurement', 'station'].\n"
     ]
    }
   ],
   "source": [
    "print('The hawaii_weather DB contains the following tables %r.' % Base.classes.keys())"
   ]
  },
  {
   "cell_type": "code",
   "execution_count": 6,
   "metadata": {
    "collapsed": false
   },
   "outputs": [],
   "source": [
    "Measurements = Base.classes.measurement\n",
    "Stations = Base.classes.station"
   ]
  },
  {
   "cell_type": "code",
   "execution_count": 7,
   "metadata": {
    "collapsed": false
   },
   "outputs": [],
   "source": [
    "session = Session(engine)"
   ]
  },
  {
   "cell_type": "code",
   "execution_count": 8,
   "metadata": {
    "collapsed": false
   },
   "outputs": [
    {
     "data": {
      "text/plain": [
       "Table('station', MetaData(bind=None), Column('station_name', VARCHAR(length=255), table=<station>, primary_key=True, nullable=False), Column('location_name', VARCHAR(length=255), table=<station>), Column('latitude', NUMERIC(), table=<station>), Column('longitude', NUMERIC(), table=<station>), Column('elevation', NUMERIC(), table=<station>), schema=None)"
      ]
     },
     "execution_count": 8,
     "metadata": {},
     "output_type": "execute_result"
    }
   ],
   "source": [
    "Stations.__table__"
   ]
  },
  {
   "cell_type": "code",
   "execution_count": 9,
   "metadata": {
    "collapsed": false
   },
   "outputs": [
    {
     "data": {
      "text/plain": [
       "Table('measurement', MetaData(bind=None), Column('id', INTEGER(), table=<measurement>, primary_key=True, nullable=False), Column('station_name', VARCHAR(length=255), ForeignKey('station.station_name'), table=<measurement>), Column('date', DATE(), table=<measurement>), Column('precipitation', VARCHAR(length=255), table=<measurement>), Column('temperature', NUMERIC(), table=<measurement>), schema=None)"
      ]
     },
     "execution_count": 9,
     "metadata": {},
     "output_type": "execute_result"
    }
   ],
   "source": [
    "Measurements.__table__"
   ]
  },
  {
   "cell_type": "code",
   "execution_count": 10,
   "metadata": {
    "collapsed": false
   },
   "outputs": [
    {
     "name": "stdout",
     "output_type": "stream",
     "text": [
      "The latest observation in the data set was taken on '2017-08-23'.\n"
     ]
    }
   ],
   "source": [
    "# Find the latest observation, useful for doing queries on the last 12 months of data.\n",
    "\n",
    "latest_observation = session.query(Measurements.date).order_by(Measurements.date.desc()).first()\n",
    "latest_obseration_str = latest_observation[0].strftime('%Y-%m-%d')\n",
    "\n",
    "print('The latest observation in the data set was taken on %r.' % latest_obseration_str)"
   ]
  },
  {
   "cell_type": "code",
   "execution_count": 11,
   "metadata": {
    "collapsed": false
   },
   "outputs": [
    {
     "name": "stdout",
     "output_type": "stream",
     "text": [
      "The first result from a query of the lat 12 mos of observations is {'station_id': 'USC00519397', 'station_name': 'WAIKIKI 717.2, HI US', 'prcp': 0.08, 'date': '2016-08-24'}.\n"
     ]
    }
   ],
   "source": [
    "# Return the last 12 months of precipitation observations in the data set.\n",
    "\n",
    "precipitation_last_12 = session.query(Stations.station_name,\\\n",
    "                                      Stations.location_name\\\n",
    "                                     )\\\n",
    "    .join(Measurements, Stations.station_name==Measurements.station_name)\\\n",
    "    .add_columns(Measurements.precipitation, Measurements.date)\\\n",
    "    .filter(Measurements.precipitation.isnot(None))\\\n",
    "    .filter(Measurements.date > (latest_observation[0] - relativedelta(years=1)).strftime('%Y-%m-%d'))\\\n",
    "    .order_by(Measurements.date).all()\n",
    "\n",
    "precipitation_last_12_dict = [\n",
    "    dict( \n",
    "        (k,v) \n",
    "        for (k,v) \n",
    "        in zip(\n",
    "            ('station_id', 'station_name', 'prcp', 'date'),\n",
    "            (x[0], x[1], float(x[2]), x[3].strftime('%Y-%m-%d'))\n",
    "        )\n",
    "    )\n",
    "    for x in precipitation_last_12\n",
    "]\n",
    "\n",
    "print('The first result from a query of the lat 12 mos of observations is %r.' % precipitation_last_12_dict[0])"
   ]
  },
  {
   "cell_type": "code",
   "execution_count": 12,
   "metadata": {
    "collapsed": false
   },
   "outputs": [
    {
     "name": "stdout",
     "output_type": "stream",
     "text": [
      "The number of weather stations in the hawaii_weather DB DB is 9.\n"
     ]
    }
   ],
   "source": [
    "# Return a count of the stations in the data set.\n",
    "\n",
    "station_count = session.query(Stations.station_name).count()\n",
    "station_count\n",
    "\n",
    "print('The number of weather stations in the hawaii_weather DB DB is %r.' % station_count)"
   ]
  },
  {
   "cell_type": "code",
   "execution_count": 13,
   "metadata": {
    "collapsed": false
   },
   "outputs": [
    {
     "name": "stdout",
     "output_type": "stream",
     "text": [
      "The least active station in terms of temperature observations is 'UPPER WAHIAWA 874.3, HI US'.\n"
     ]
    }
   ],
   "source": [
    "# The most active stations by number of temperature observations.\n",
    "\n",
    "most_active_sations_tmp = session.query(Stations.station_name,\\\n",
    "                                      Stations.location_name\\\n",
    "                                     )\\\n",
    "    .join(Measurements, Stations.station_name==Measurements.station_name)\\\n",
    "    .add_columns(func.count(Measurements.id).label('tmp_total'))\\\n",
    "    .filter(Measurements.temperature.isnot(None))\\\n",
    "    .group_by(Measurements.station_name).order_by(func.count(Measurements.id).desc()).all()\n",
    "\n",
    "most_active_sations_tmp_dict = [\n",
    "    dict(\n",
    "        (k,v) \n",
    "        for (k,v) \n",
    "        in zip(\n",
    "            ('station_id', 'station_name', 'temperature_observations'),\n",
    "            (str(x[0]), str(x[1]), int(x[2]))\n",
    "        )\n",
    "    )\n",
    "    for x \n",
    "    in most_active_sations_tmp\n",
    "]\n",
    "\n",
    "print('The least active station in terms of temperature observations is %r.' % most_active_sations_tmp_dict[-1].get('station_name'))"
   ]
  },
  {
   "cell_type": "code",
   "execution_count": 14,
   "metadata": {
    "collapsed": false
   },
   "outputs": [
    {
     "name": "stdout",
     "output_type": "stream",
     "text": [
      "The least active station in terms of temperature observations is 'UPPER WAHIAWA 874.3, HI US'.\n"
     ]
    }
   ],
   "source": [
    "# The most active stations by number of precipitation observations, distinct from the above query because\n",
    "# some of the recordings that contain temperature data have null values for precipitation, which are here filtered out.\n",
    "\n",
    "most_active_sations_prcp = session.query(Stations.station_name, Stations.location_name)\\\n",
    "    .join(Measurements, Stations.station_name==Measurements.station_name)\\\n",
    "    .add_columns(func.count(Measurements.id).label('tmp_total'))\\\n",
    "    .filter(Measurements.precipitation.isnot(None))\\\n",
    "    .group_by(Measurements.station_name).order_by(func.count(Measurements.id).desc()).all()\n",
    "\n",
    "most_active_sations_prcp_dict = [\n",
    "    dict( \n",
    "        (k,v) \n",
    "       for (k,v) \n",
    "       in zip(\n",
    "           ('station_id', 'station_name', 'precipitation_observations'),\n",
    "           (str(x[0]), str(x[1]), int(x[2])) \n",
    "       ) \n",
    "    )\n",
    "    for x in most_active_sations_prcp\n",
    "]\n",
    "\n",
    "print('The least active station in terms of temperature observations is %r.' % most_active_sations_prcp_dict[-1].get('station_name'))"
   ]
  },
  {
   "cell_type": "code",
   "execution_count": 15,
   "metadata": {
    "collapsed": false
   },
   "outputs": [
    {
     "name": "stderr",
     "output_type": "stream",
     "text": [
      "/Users/jakram/anaconda/lib/python3.6/site-packages/sqlalchemy/sql/sqltypes.py:596: SAWarning: Dialect sqlite+pysqlite does *not* support Decimal objects natively, and SQLAlchemy must convert from floating point - rounding errors and other issues may occur. Please consider storing Decimal numbers as strings or integers on this platform for lossless storage.\n",
      "  'storage.' % (dialect.name, dialect.driver))\n"
     ]
    }
   ],
   "source": [
    "# Retrieve just the station names and details.\n",
    "\n",
    "station_info = session.query(Stations.station_name,\\\n",
    "                            Stations.location_name,\\\n",
    "                            Stations.latitude,\\\n",
    "                            Stations.longitude,\\\n",
    "                            Stations.elevation,\\\n",
    "                            ).all()\n",
    "\n",
    "stations_labels = ('station_id', 'station_name', 'latitude', 'longitude', 'elevation')\n",
    "\n",
    "station_info_dict = [\n",
    "    dict( \n",
    "        (k,v) \n",
    "        for (k,v) \n",
    "        in zip(\n",
    "            stations_labels, \n",
    "            (str(x[0]), str(x[1]), float(x[2]), float(x[3]), float(x[4]))\n",
    "        ) \n",
    "    )\n",
    "    for x in station_info\n",
    "]"
   ]
  },
  {
   "cell_type": "code",
   "execution_count": 16,
   "metadata": {
    "collapsed": false
   },
   "outputs": [
    {
     "name": "stdout",
     "output_type": "stream",
     "text": [
      "The station with the largest number of temperature readings over the last 12 months of data is 'USC00519397'.\n"
     ]
    }
   ],
   "source": [
    "# Find the most active station in the last 12 months. \n",
    "\n",
    "most_active_station_last_12_mos = session.query(Measurements.station_name, func.count(Measurements.id).label('tmp_total'))\\\n",
    "    .filter(Measurements.date >'2016-08-23').group_by(Measurements.station_name)\\\n",
    "    .order_by(func.count(Measurements.id).desc()).first()\n",
    "    \n",
    "print('The station with the largest number of temperature readings over the last 12 months of \\\n",
    "data is %r.' % most_active_station_last_12_mos[0])"
   ]
  },
  {
   "cell_type": "code",
   "execution_count": 17,
   "metadata": {
    "collapsed": false
   },
   "outputs": [
    {
     "name": "stdout",
     "output_type": "stream",
     "text": [
      "The first measure from the most active station is {'date': '2016-08-24', 'temp': 79.0}.\n"
     ]
    },
    {
     "name": "stderr",
     "output_type": "stream",
     "text": [
      "/Users/jakram/anaconda/lib/python3.6/site-packages/sqlalchemy/sql/sqltypes.py:596: SAWarning: Dialect sqlite+pysqlite does *not* support Decimal objects natively, and SQLAlchemy must convert from floating point - rounding errors and other issues may occur. Please consider storing Decimal numbers as strings or integers on this platform for lossless storage.\n",
      "  'storage.' % (dialect.name, dialect.driver))\n"
     ]
    }
   ],
   "source": [
    "# Retrieve the last 12 months of temperature readings from the most active sation.\n",
    "\n",
    "temp_measures_most_active_last_12_mos = session.query(Measurements.date, Measurements.temperature)\\\n",
    "    .filter(Measurements.station_name.contains(most_active_station_last_12_mos[0]))\\\n",
    "    .filter(Measurements.date > '2016-08-23').all()\n",
    "\n",
    "temp_measures_most_active_last_12_mos_dict = [\n",
    "    dict(\n",
    "        (k,v) \n",
    "        for (k,v) \n",
    "        in zip(\n",
    "            ('date', 'temp'),\n",
    "            (x[0].strftime('%Y-%m-%d'), float(x[1]))\n",
    "        )\n",
    "    ) \n",
    "    for x \n",
    "    in temp_measures_most_active_last_12_mos]\n",
    "\n",
    "print('The first measure from the most active station is %r.' % temp_measures_most_active_last_12_mos_dict[0])"
   ]
  },
  {
   "cell_type": "code",
   "execution_count": 18,
   "metadata": {
    "collapsed": false
   },
   "outputs": [],
   "source": [
    "trip_start = datetime.datetime(2016,9,1)\n",
    "trip_return = datetime.datetime(2016,9,15)\n",
    "\n",
    "trip_start_str = trip_start.strftime('%Y-%m-%d')\n",
    "trip_return_str = trip_return.strftime('%Y-%m-%d')\n",
    "\n",
    "trip_start_prior_year_str = (trip_start - relativedelta(years=1)).strftime('%Y-%m-%d')\n",
    "trip_return_prior_year_str = (trip_return - relativedelta(years=1)).strftime('%Y-%m-%d')"
   ]
  },
  {
   "cell_type": "code",
   "execution_count": 19,
   "metadata": {
    "collapsed": false
   },
   "outputs": [],
   "source": [
    "# Create a function that calcualtes the average, min and max temperatures over a range of dates.\n",
    "\n",
    "def calc_temps(start_date, end_date):\n",
    "    \n",
    "    labels = ['min', 'max', 'avg']\n",
    "    temperatures = session.query(func.min(Measurements.temperature),\n",
    "                                 func.max(Measurements.temperature),\n",
    "                                 func.avg(Measurements.temperature)\n",
    "                                ).filter(Measurements.date >= start_date, Measurements.date <= end_date).all()\n",
    "   \n",
    "    temperatures = [float(x) for x in temperatures[0]]\n",
    "    \n",
    "    d = dict(\n",
    "        (k, v)\n",
    "        for (k, v)\n",
    "        in zip(labels,temperatures))\n",
    "\n",
    "    return d"
   ]
  },
  {
   "cell_type": "code",
   "execution_count": 20,
   "metadata": {
    "collapsed": false
   },
   "outputs": [
    {
     "data": {
      "text/plain": [
       "{'avg': 77.40229885057471, 'max': 84.0, 'min': 71.0}"
      ]
     },
     "execution_count": 20,
     "metadata": {},
     "output_type": "execute_result"
    }
   ],
   "source": [
    "calc_temps(trip_start, trip_return)"
   ]
  },
  {
   "cell_type": "code",
   "execution_count": 22,
   "metadata": {
    "collapsed": false
   },
   "outputs": [],
   "source": [
    "# Create a function that returns the temperature normals for each day in a date range.\n",
    "\n",
    "def calc_normals(start_date, end_date=None):\n",
    "    \n",
    "    if end_date == None:\n",
    "        end_date = datetime.datetime.now().strftime(\"%Y-%m-%d\")\n",
    "    else:\n",
    "        end_date\n",
    "    \n",
    "    labels = ['date','min', 'max', 'avg']\n",
    "\n",
    "    normals = session.query(\n",
    "        Measurements.date,\n",
    "        func.min(Measurements.temperature),\n",
    "        func.max(Measurements.temperature),\n",
    "        func.avg(Measurements.temperature)\\\n",
    "    ).group_by(Measurements.date)\\\n",
    "    .filter(Measurements.date >= start_date, Measurements.date <= end_date).all()\n",
    "    \n",
    "    l = [\n",
    "        [x[0].strftime('%Y-%m-%d'), float(x[1]), float(x[2]), float(x[3])] \n",
    "        for x \n",
    "        in normals\n",
    "    ]\n",
    "    \n",
    "    d = [\n",
    "        dict((k,v)\n",
    "             for (k,v)\n",
    "             in zip(labels,x)\n",
    "            )\n",
    "        for x \n",
    "        in l\n",
    "    ]\n",
    "    \n",
    "    return d"
   ]
  },
  {
   "cell_type": "code",
   "execution_count": 23,
   "metadata": {
    "collapsed": false
   },
   "outputs": [
    {
     "name": "stdout",
     "output_type": "stream",
     "text": [
      "The first result for our trip dates is {'date': '2016-09-02', 'min': 75.0, 'max': 81.0, 'avg': 79.42857142857143}.\n"
     ]
    }
   ],
   "source": [
    "print('The first result for our trip dates is %r.' %calc_normals(trip_start)[0])"
   ]
  },
  {
   "cell_type": "code",
   "execution_count": 24,
   "metadata": {
    "collapsed": false
   },
   "outputs": [
    {
     "data": {
      "text/html": [
       "<div>\n",
       "<table border=\"1\" class=\"dataframe\">\n",
       "  <thead>\n",
       "    <tr style=\"text-align: right;\">\n",
       "      <th></th>\n",
       "      <th>prcp</th>\n",
       "    </tr>\n",
       "    <tr>\n",
       "      <th>date</th>\n",
       "      <th></th>\n",
       "    </tr>\n",
       "  </thead>\n",
       "  <tbody>\n",
       "    <tr>\n",
       "      <th>2016-08-24</th>\n",
       "      <td>0.08</td>\n",
       "    </tr>\n",
       "    <tr>\n",
       "      <th>2016-08-24</th>\n",
       "      <td>2.15</td>\n",
       "    </tr>\n",
       "    <tr>\n",
       "      <th>2016-08-24</th>\n",
       "      <td>2.28</td>\n",
       "    </tr>\n",
       "    <tr>\n",
       "      <th>2016-08-24</th>\n",
       "      <td>1.22</td>\n",
       "    </tr>\n",
       "    <tr>\n",
       "      <th>2016-08-24</th>\n",
       "      <td>2.15</td>\n",
       "    </tr>\n",
       "  </tbody>\n",
       "</table>\n",
       "</div>"
      ],
      "text/plain": [
       "            prcp\n",
       "date            \n",
       "2016-08-24  0.08\n",
       "2016-08-24  2.15\n",
       "2016-08-24  2.28\n",
       "2016-08-24  1.22\n",
       "2016-08-24  2.15"
      ]
     },
     "execution_count": 24,
     "metadata": {},
     "output_type": "execute_result"
    }
   ],
   "source": [
    "precipitation_last_12_df = pd.DataFrame(precipitation_last_12_dict)\n",
    "precipitation_last_12_df = precipitation_last_12_df.set_index('date').drop(['station_id', 'station_name'],1)\n",
    "precipitation_last_12_df.head()"
   ]
  },
  {
   "cell_type": "code",
   "execution_count": 25,
   "metadata": {
    "collapsed": false
   },
   "outputs": [
    {
     "data": {
      "image/png": "[encoded data removed]",
      "text/plain": [
       "<matplotlib.figure.Figure at 0x11766f7f0>"
      ]
     },
     "metadata": {},
     "output_type": "display_data"
    }
   ],
   "source": [
    "# Plot frequency of precipitation observations.\n",
    "\n",
    "fig, ax = plt.subplots()\n",
    "\n",
    "ax = precipitation_last_12_df['prcp'].plot()\n",
    "\n",
    "plt.xticks(rotation='vertical')\n",
    "ax.set_title('Precipitation Readings Last 12 Mos')\n",
    "fig.set_size_inches(14, 9)\n",
    "\n",
    "plt.show()"
   ]
  },
  {
   "cell_type": "code",
   "execution_count": 26,
   "metadata": {
    "collapsed": false
   },
   "outputs": [
    {
     "data": {
      "text/html": [
       "<div>\n",
       "<table border=\"1\" class=\"dataframe\">\n",
       "  <thead>\n",
       "    <tr style=\"text-align: right;\">\n",
       "      <th></th>\n",
       "      <th>temp</th>\n",
       "    </tr>\n",
       "    <tr>\n",
       "      <th>date</th>\n",
       "      <th></th>\n",
       "    </tr>\n",
       "  </thead>\n",
       "  <tbody>\n",
       "    <tr>\n",
       "      <th>2016-08-24</th>\n",
       "      <td>79.0</td>\n",
       "    </tr>\n",
       "    <tr>\n",
       "      <th>2016-08-25</th>\n",
       "      <td>80.0</td>\n",
       "    </tr>\n",
       "    <tr>\n",
       "      <th>2016-08-26</th>\n",
       "      <td>79.0</td>\n",
       "    </tr>\n",
       "    <tr>\n",
       "      <th>2016-08-27</th>\n",
       "      <td>77.0</td>\n",
       "    </tr>\n",
       "    <tr>\n",
       "      <th>2016-08-28</th>\n",
       "      <td>78.0</td>\n",
       "    </tr>\n",
       "  </tbody>\n",
       "</table>\n",
       "</div>"
      ],
      "text/plain": [
       "            temp\n",
       "date            \n",
       "2016-08-24  79.0\n",
       "2016-08-25  80.0\n",
       "2016-08-26  79.0\n",
       "2016-08-27  77.0\n",
       "2016-08-28  78.0"
      ]
     },
     "execution_count": 26,
     "metadata": {},
     "output_type": "execute_result"
    }
   ],
   "source": [
    "most_active_last_12_mos_df = pd.DataFrame(temp_measures_most_active_last_12_mos_dict).set_index('date')\n",
    "most_active_last_12_mos_df.head()"
   ]
  },
  {
   "cell_type": "code",
   "execution_count": 27,
   "metadata": {
    "collapsed": false
   },
   "outputs": [
    {
     "data": {
      "text/html": [
       "<div>\n",
       "<table border=\"1\" class=\"dataframe\">\n",
       "  <thead>\n",
       "    <tr style=\"text-align: right;\">\n",
       "      <th></th>\n",
       "      <th>temp</th>\n",
       "    </tr>\n",
       "  </thead>\n",
       "  <tbody>\n",
       "    <tr>\n",
       "      <th>count</th>\n",
       "      <td>360.000000</td>\n",
       "    </tr>\n",
       "    <tr>\n",
       "      <th>mean</th>\n",
       "      <td>75.194444</td>\n",
       "    </tr>\n",
       "    <tr>\n",
       "      <th>std</th>\n",
       "      <td>4.961239</td>\n",
       "    </tr>\n",
       "    <tr>\n",
       "      <th>min</th>\n",
       "      <td>60.000000</td>\n",
       "    </tr>\n",
       "    <tr>\n",
       "      <th>25%</th>\n",
       "      <td>72.000000</td>\n",
       "    </tr>\n",
       "    <tr>\n",
       "      <th>50%</th>\n",
       "      <td>77.000000</td>\n",
       "    </tr>\n",
       "    <tr>\n",
       "      <th>75%</th>\n",
       "      <td>79.000000</td>\n",
       "    </tr>\n",
       "    <tr>\n",
       "      <th>max</th>\n",
       "      <td>87.000000</td>\n",
       "    </tr>\n",
       "  </tbody>\n",
       "</table>\n",
       "</div>"
      ],
      "text/plain": [
       "             temp\n",
       "count  360.000000\n",
       "mean    75.194444\n",
       "std      4.961239\n",
       "min     60.000000\n",
       "25%     72.000000\n",
       "50%     77.000000\n",
       "75%     79.000000\n",
       "max     87.000000"
      ]
     },
     "execution_count": 27,
     "metadata": {},
     "output_type": "execute_result"
    }
   ],
   "source": [
    "most_active_last_12_mos_df.describe()"
   ]
  },
  {
   "cell_type": "code",
   "execution_count": 28,
   "metadata": {
    "collapsed": false
   },
   "outputs": [
    {
     "data": {
      "image/png": "[encoded data removed]",
      "text/plain": [
       "<matplotlib.figure.Figure at 0x11aa98908>"
      ]
     },
     "metadata": {},
     "output_type": "display_data"
    }
   ],
   "source": [
    "# Plot a histogram of temperatures of the 12 month period.\n",
    "\n",
    "n_bins = 12\n",
    "x = most_active_last_12_mos_df['temp']\n",
    "color = 'red'\n",
    "\n",
    "fig, axis = plt.subplots(nrows=1, ncols=1)\n",
    "axis.hist(x, n_bins, normed=1, histtype='bar', color=color, label=color)\n",
    "axis.set_title('Temperature Obs from Most Active Station Last 12 Mos.')\n",
    "axis.set_xlabel('Temperature')\n",
    "axis.set_ylabel('Frequency')\n",
    "fig.set_size_inches(14, 9)\n",
    "\n",
    "plt.show()"
   ]
  },
  {
   "cell_type": "code",
   "execution_count": 29,
   "metadata": {
    "collapsed": false
   },
   "outputs": [
    {
     "data": {
      "text/plain": [
       "78.44329896907216"
      ]
     },
     "execution_count": 29,
     "metadata": {},
     "output_type": "execute_result"
    }
   ],
   "source": [
    "trip_temps = calc_temps(trip_start_prior_year_str, trip_return_prior_year_str)\n",
    "trip_temps.get('avg')"
   ]
  },
  {
   "cell_type": "code",
   "execution_count": 30,
   "metadata": {
    "collapsed": false
   },
   "outputs": [
    {
     "data": {
      "image/png": "[encoded data removed]",
      "text/plain": [
       "<matplotlib.figure.Figure at 0x11ae937b8>"
      ]
     },
     "metadata": {},
     "output_type": "display_data"
    }
   ],
   "source": [
    "# Plot a single bart to show the average, min and max temperatures over the trip period minus 1 year.\n",
    "\n",
    "height = trip_temps.get('avg')\n",
    "yerr = trip_temps.get('max') - trip_temps.get('min')\n",
    "\n",
    "fig, ax = plt.subplots()\n",
    "\n",
    "bar_width = .001\n",
    "\n",
    "opacity = 0.4\n",
    "error_config = {'ecolor': '0.3'}\n",
    "\n",
    "rects1 = plt.bar(\n",
    "    1, \n",
    "    height, \n",
    "    bar_width,\n",
    "    alpha=opacity,\n",
    "    color='b',\n",
    "    yerr=yerr)\n",
    "\n",
    "ax.tick_params(\n",
    "    axis='x',          \n",
    "    bottom='off',\n",
    "    top='off',         \n",
    "    labelbottom='off') \n",
    "ax.set_title('Average Temperature %r to %r' % (\n",
    "    trip_start_prior_year_str,\n",
    "    trip_return_prior_year_str))\n",
    "ax.set_ylabel('Temperature (F)')\n",
    "plt.xticks(rotation='vertical')\n",
    "fig.set_size_inches(3, 9)\n",
    "\n",
    "\n",
    "plt.show()"
   ]
  },
  {
   "cell_type": "code",
   "execution_count": 31,
   "metadata": {
    "collapsed": false
   },
   "outputs": [
    {
     "data": {
      "text/html": [
       "<div>\n",
       "<table border=\"1\" class=\"dataframe\">\n",
       "  <thead>\n",
       "    <tr style=\"text-align: right;\">\n",
       "      <th></th>\n",
       "      <th>avg</th>\n",
       "      <th>max</th>\n",
       "      <th>min</th>\n",
       "    </tr>\n",
       "    <tr>\n",
       "      <th>date</th>\n",
       "      <th></th>\n",
       "      <th></th>\n",
       "      <th></th>\n",
       "    </tr>\n",
       "  </thead>\n",
       "  <tbody>\n",
       "    <tr>\n",
       "      <th>2016-09-02</th>\n",
       "      <td>79.428571</td>\n",
       "      <td>81.0</td>\n",
       "      <td>75.0</td>\n",
       "    </tr>\n",
       "    <tr>\n",
       "      <th>2016-09-03</th>\n",
       "      <td>77.400000</td>\n",
       "      <td>79.0</td>\n",
       "      <td>75.0</td>\n",
       "    </tr>\n",
       "    <tr>\n",
       "      <th>2016-09-04</th>\n",
       "      <td>77.000000</td>\n",
       "      <td>84.0</td>\n",
       "      <td>73.0</td>\n",
       "    </tr>\n",
       "    <tr>\n",
       "      <th>2016-09-05</th>\n",
       "      <td>79.500000</td>\n",
       "      <td>84.0</td>\n",
       "      <td>76.0</td>\n",
       "    </tr>\n",
       "    <tr>\n",
       "      <th>2016-09-06</th>\n",
       "      <td>75.666667</td>\n",
       "      <td>80.0</td>\n",
       "      <td>73.0</td>\n",
       "    </tr>\n",
       "  </tbody>\n",
       "</table>\n",
       "</div>"
      ],
      "text/plain": [
       "                  avg   max   min\n",
       "date                             \n",
       "2016-09-02  79.428571  81.0  75.0\n",
       "2016-09-03  77.400000  79.0  75.0\n",
       "2016-09-04  77.000000  84.0  73.0\n",
       "2016-09-05  79.500000  84.0  76.0\n",
       "2016-09-06  75.666667  80.0  73.0"
      ]
     },
     "execution_count": 31,
     "metadata": {},
     "output_type": "execute_result"
    }
   ],
   "source": [
    "trip_normals = calc_normals(trip_start, trip_return)\n",
    "trip_normals_df = pd.DataFrame(trip_normals).set_index('date')\n",
    "trip_normals_df.head()"
   ]
  },
  {
   "cell_type": "code",
   "execution_count": 32,
   "metadata": {
    "collapsed": false
   },
   "outputs": [
    {
     "data": {
      "image/png": "[encoded data removed]",
      "text/plain": [
       "<matplotlib.figure.Figure at 0x11aef4dd8>"
      ]
     },
     "metadata": {},
     "output_type": "display_data"
    }
   ],
   "source": [
    "# Plot stacked areas to show the normals during the trip period.\n",
    "# fig,ax = plt.subplots()\n",
    "\n",
    "ax = trip_normals_df.plot.area(stacked=False, alpha=.15, figsize=(14,9))\n",
    "\n",
    "ax.set_title('Temperature Normals %r to %r' % (\n",
    "    trip_start_str,\n",
    "    trip_return_str))\n",
    "ax.set_xlabel('Trip Dates')\n",
    "ax.set_ylabel('Temperature (F)')\n",
    "plt.xticks(rotation='vertical')\n",
    "\n",
    "fig.set_size_inches(14, 9)\n",
    "\n",
    "plt.show()"
   ]
  },
  {
   "cell_type": "code",
   "execution_count": null,
   "metadata": {
    "collapsed": true
   },
   "outputs": [],
   "source": []
  }
 ],
 "metadata": {
  "kernelspec": {
   "display_name": "Python 3",
   "language": "python",
   "name": "python3"
  },
  "language_info": {
   "codemirror_mode": {
    "name": "ipython",
    "version": 3
   },
   "file_extension": ".py",
   "mimetype": "text/x-python",
   "name": "python",
   "nbconvert_exporter": "python",
   "pygments_lexer": "ipython3",
   "version": "3.6.0"
  }
 },
 "nbformat": 4,
 "nbformat_minor": 2
}
