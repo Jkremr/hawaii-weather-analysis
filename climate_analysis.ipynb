{
 "cells": [
  {
   "cell_type": "code",
   "execution_count": 35,
   "metadata": {
    "collapsed": false
   },
   "outputs": [],
   "source": [
    "import pandas as pd\n",
    "import sqlalchemy\n",
    "from sqlalchemy.ext.automap import automap_base\n",
    "from sqlalchemy.orm import Session\n",
    "from sqlalchemy import create_engine\n",
    "from sqlalchemy import func\n",
    "import matplotlib.pyplot as plt\n",
    "import datetime\n",
    "from dateutil.relativedelta import relativedelta"
   ]
  },
  {
   "cell_type": "code",
   "execution_count": 2,
   "metadata": {
    "collapsed": false
   },
   "outputs": [],
   "source": [
    "engine = create_engine(\"sqlite:///hawaii_weather.sqlite\")"
   ]
  },
  {
   "cell_type": "code",
   "execution_count": 3,
   "metadata": {
    "collapsed": true
   },
   "outputs": [],
   "source": [
    "Base = automap_base()"
   ]
  },
  {
   "cell_type": "code",
   "execution_count": 4,
   "metadata": {
    "collapsed": false
   },
   "outputs": [],
   "source": [
    "Base.prepare(engine, reflect=True)"
   ]
  },
  {
   "cell_type": "code",
   "execution_count": 5,
   "metadata": {
    "collapsed": false
   },
   "outputs": [
    {
     "name": "stdout",
     "output_type": "stream",
     "text": [
      "Engine(sqlite:///hawaii_weather.sqlite)\n"
     ]
    }
   ],
   "source": [
    "print(engine)"
   ]
  },
  {
   "cell_type": "code",
   "execution_count": 6,
   "metadata": {
    "collapsed": false
   },
   "outputs": [
    {
     "data": {
      "text/plain": [
       "['measurement', 'station']"
      ]
     },
     "execution_count": 6,
     "metadata": {},
     "output_type": "execute_result"
    }
   ],
   "source": [
    "Base.classes.keys()"
   ]
  },
  {
   "cell_type": "code",
   "execution_count": 7,
   "metadata": {
    "collapsed": false
   },
   "outputs": [],
   "source": [
    "Measurements = Base.classes.measurement\n",
    "Stations = Base.classes.station"
   ]
  },
  {
   "cell_type": "code",
   "execution_count": 8,
   "metadata": {
    "collapsed": false
   },
   "outputs": [
    {
     "name": "stderr",
     "output_type": "stream",
     "text": [
      "/Users/jakram/anaconda/lib/python3.6/site-packages/sqlalchemy/sql/sqltypes.py:596: SAWarning: Dialect sqlite+pysqlite does *not* support Decimal objects natively, and SQLAlchemy must convert from floating point - rounding errors and other issues may occur. Please consider storing Decimal numbers as strings or integers on this platform for lossless storage.\n",
      "  'storage.' % (dialect.name, dialect.driver))\n"
     ]
    },
    {
     "data": {
      "text/plain": [
       "{'_sa_instance_state': <sqlalchemy.orm.state.InstanceState at 0x10dca3160>,\n",
       " 'date': datetime.date(2010, 1, 1),\n",
       " 'id': 1,\n",
       " 'precipitation': '0.08',\n",
       " 'station_name': 'USC00519397',\n",
       " 'temperature': Decimal('65.0000000000')}"
      ]
     },
     "execution_count": 8,
     "metadata": {},
     "output_type": "execute_result"
    }
   ],
   "source": [
    "session = Session(engine)\n",
    "test = session.query(Measurements).first().__dict__\n",
    "test"
   ]
  },
  {
   "cell_type": "code",
   "execution_count": 9,
   "metadata": {
    "collapsed": false
   },
   "outputs": [
    {
     "data": {
      "text/plain": [
       "{'_criterion': <sqlalchemy.sql.elements.BooleanClauseList object at 0x10dca34a8>,\n",
       " '_entities': [<sqlalchemy.orm.query._ColumnEntity at 0x10dca3278>,\n",
       "  <sqlalchemy.orm.query._ColumnEntity at 0x10dca32e8>],\n",
       " '_has_mapper_entities': False,\n",
       " '_mapper_adapter_map': {<Mapper at 0x104bc1780; measurement>: (<Mapper at 0x104bc1780; measurement>,\n",
       "   None)},\n",
       " '_order_by': [Column('date', DATE(), table=<measurement>)],\n",
       " '_polymorphic_adapters': {},\n",
       " '_primary_entity': None,\n",
       " 'session': <sqlalchemy.orm.session.Session at 0x10dc53240>}"
      ]
     },
     "execution_count": 9,
     "metadata": {},
     "output_type": "execute_result"
    }
   ],
   "source": [
    "precipitation = session.query(Measurements.date,\\\n",
    "                              Measurements.precipitation\\\n",
    "                             )\\\n",
    "                                .filter(Measurements.precipitation.isnot(None))\\\n",
    "                                .filter(Measurements.date > '2016-10-22').order_by(Measurements.date)\n",
    "precipitation.__dict__     "
   ]
  },
  {
   "cell_type": "code",
   "execution_count": 10,
   "metadata": {
    "collapsed": false
   },
   "outputs": [
    {
     "name": "stdout",
     "output_type": "stream",
     "text": [
      "The number of weather stations in our SQLite DB is 9.\n"
     ]
    }
   ],
   "source": [
    "station_count = session.query(Stations.station_name).count()\n",
    "station_count\n",
    "print('The number of weather stations in our SQLite DB is %r.' % station_count)"
   ]
  },
  {
   "cell_type": "code",
   "execution_count": 71,
   "metadata": {
    "collapsed": false
   },
   "outputs": [
    {
     "data": {
      "text/plain": [
       "[('USC00519281', 2772),\n",
       " ('USC00519397', 2724),\n",
       " ('USC00513117', 2709),\n",
       " ('USC00519523', 2669),\n",
       " ('USC00516128', 2612),\n",
       " ('USC00514830', 2202),\n",
       " ('USC00511918', 1979),\n",
       " ('USC00517948', 1372),\n",
       " ('USC00518838', 511)]"
      ]
     },
     "execution_count": 71,
     "metadata": {},
     "output_type": "execute_result"
    }
   ],
   "source": [
    "# The most active stations by number of temperature observations.\n",
    "most_active_sations_tmp = session.query(Measurements.station_name, func.count(Measurements.id).label('tmp_total'))\\\n",
    "    .group_by(Measurements.station_name).order_by(func.count(Measurements.id).desc()).all()\n",
    "most_active_sations_tmp"
   ]
  },
  {
   "cell_type": "code",
   "execution_count": 12,
   "metadata": {
    "collapsed": false
   },
   "outputs": [
    {
     "name": "stderr",
     "output_type": "stream",
     "text": [
      "/Users/jakram/anaconda/lib/python3.6/site-packages/sqlalchemy/sql/compiler.py:624: SAWarning: Can't resolve label reference 'tmp_total DESC'; converting to text() (this warning may be suppressed after 10 occurrences)\n",
      "  util.ellipses_string(element.element))\n"
     ]
    },
    {
     "data": {
      "text/plain": [
       "[('USC00519281', 2772),\n",
       " ('USC00513117', 2696),\n",
       " ('USC00519397', 2685),\n",
       " ('USC00519523', 2572),\n",
       " ('USC00516128', 2484),\n",
       " ('USC00514830', 1937),\n",
       " ('USC00511918', 1932),\n",
       " ('USC00517948', 683),\n",
       " ('USC00518838', 342)]"
      ]
     },
     "execution_count": 12,
     "metadata": {},
     "output_type": "execute_result"
    }
   ],
   "source": [
    "# The most active stations by number of precipitation observations, distinct from the above query because\n",
    "# some of the recordings that contain temperature data have null values for precipitation, which are here filtered out.\n",
    "most_active_sations_prcp = session.query(Measurements.station_name, func.count(Measurements.id).label('tmp_total'))\\\n",
    "    .filter(Measurements.precipitation.isnot(None))\\\n",
    "    .group_by(Measurements.station_name).order_by(func.count(Measurements.id).desc).all()\n",
    "most_active_sations_prcp"
   ]
  },
  {
   "cell_type": "code",
   "execution_count": null,
   "metadata": {
    "collapsed": true
   },
   "outputs": [],
   "source": []
  },
  {
   "cell_type": "code",
   "execution_count": 13,
   "metadata": {
    "collapsed": false
   },
   "outputs": [
    {
     "name": "stdout",
     "output_type": "stream",
     "text": [
      "The station with the largest number of temperature readings over the last 12 months of data is 'USC00519397'.\n"
     ]
    },
    {
     "name": "stderr",
     "output_type": "stream",
     "text": [
      "/Users/jakram/anaconda/lib/python3.6/site-packages/sqlalchemy/sql/compiler.py:624: SAWarning: Can't resolve label reference 'tmp_total DESC'; converting to text() (this warning may be suppressed after 10 occurrences)\n",
      "  util.ellipses_string(element.element))\n"
     ]
    }
   ],
   "source": [
    "# Find the most active station in the last 12 months. \n",
    "most_active_station_last_12_mos = session.query(Measurements.station_name, func.count(Measurements.id).label('tmp_total'))\\\n",
    "    .filter(Measurements.date >'2016-08-23').group_by(Measurements.station_name).order_by('tmp_total DESC').first()\n",
    "print('The station with the largest number of temperature readings over the last 12 months of \\\n",
    "data is %r.' % most_active_station_last_12_mos[0])"
   ]
  },
  {
   "cell_type": "code",
   "execution_count": 14,
   "metadata": {
    "collapsed": false
   },
   "outputs": [],
   "source": [
    "# Retrieve the last 12 months of temperature readings from the most active sation.\n",
    "temp_measures_most_active_last_12_mos = session.query(Measurements.date, Measurements.temperature)\\\n",
    "    .filter(Measurements.station_name.contains(\"USC00519397\")).filter(Measurements.date > '2016-08-23').all()\n"
   ]
  },
  {
   "cell_type": "code",
   "execution_count": 15,
   "metadata": {
    "collapsed": false
   },
   "outputs": [
    {
     "data": {
      "text/plain": [
       "'2016-06-12'"
      ]
     },
     "execution_count": 15,
     "metadata": {},
     "output_type": "execute_result"
    }
   ],
   "source": [
    "def convert_date(year, month, date):\n",
    "    orig_date = datetime.datetime(year, month, date)\n",
    "    orig_date = str(orig_date)\n",
    "    d = datetime.datetime.strptime(orig_date, '%Y-%m-%d %H:%M:%S')\n",
    "    d = d.strftime('%Y-%m-%d')\n",
    "    return d\n",
    "\n",
    "convert_date(2016,6,12)"
   ]
  },
  {
   "cell_type": "code",
   "execution_count": 37,
   "metadata": {
    "collapsed": false
   },
   "outputs": [
    {
     "data": {
      "text/plain": [
       "'2015-09-01'"
      ]
     },
     "execution_count": 37,
     "metadata": {},
     "output_type": "execute_result"
    }
   ],
   "source": [
    "trip_start = datetime.datetime(2016,9,1)\n",
    "trip_return = datetime.datetime(2016,9,15)\n",
    "\n",
    "trip_start_str = trip_start.strftime('%Y-%m-%d')\n",
    "trip_return_str = trip_return.strftime('%Y-%m-%d')\n",
    "\n",
    "trip_start_prior_year_str = (trip_start - relativedelta(years=1)).strftime('%Y-%m-%d')\n",
    "trip_return_prior_year_str = (trip_return - relativedelta(years=1)).strftime('%Y-%m-%d')"
   ]
  },
  {
   "cell_type": "code",
   "execution_count": 38,
   "metadata": {
    "collapsed": false
   },
   "outputs": [],
   "source": [
    "def calc_temps(start_date, end_date):\n",
    "    labels = ['min', 'max', 'avg']\n",
    "    temperatures = session.query(func.min(Measurements.temperature),\n",
    "                                 func.max(Measurements.temperature),\n",
    "                                 func.avg(Measurements.temperature)\n",
    "                                )\\\n",
    "                                .filter(Measurements.date >= start_date, Measurements.date <= end_date).all()\n",
    "    temperatures = [float(x) for x in temperatures[0]]\n",
    "    d = dict((key, value) for (key, value) in zip(labels,temperatures))\n",
    "\n",
    "    return d"
   ]
  },
  {
   "cell_type": "code",
   "execution_count": 39,
   "metadata": {
    "collapsed": false
   },
   "outputs": [
    {
     "data": {
      "text/plain": [
       "{'avg': 77.40229885057471, 'max': 84.0, 'min': 71.0}"
      ]
     },
     "execution_count": 39,
     "metadata": {},
     "output_type": "execute_result"
    }
   ],
   "source": [
    "calc_temps(trip_start, trip_return)"
   ]
  },
  {
   "cell_type": "code",
   "execution_count": 68,
   "metadata": {
    "collapsed": false
   },
   "outputs": [],
   "source": [
    "def calc_normals(start_date, end_date):\n",
    "    labels = ['date','min', 'max', 'avg']\n",
    "\n",
    "    normals = session.query(\n",
    "        Measurements.date,\n",
    "        func.min(Measurements.temperature),\n",
    "        func.max(Measurements.temperature),\n",
    "        func.avg(Measurements.temperature)\n",
    "                                )\\\n",
    "                                .group_by(Measurements.date)\\\n",
    "                                .filter(Measurements.date >= start_date, Measurements.date <= end_date).all()\n",
    "    l = [[x[0].strftime('%Y-%m-%d'), float(x[1]), float(x[2]), float(x[3])] for x in normals]\n",
    "    d = [dict((k,v) for (k,v) in zip(labels,x)) for x in l]\n",
    "    return d"
   ]
  },
  {
   "cell_type": "code",
   "execution_count": 69,
   "metadata": {
    "collapsed": false
   },
   "outputs": [
    {
     "data": {
      "text/plain": [
       "[{'avg': 79.42857142857143, 'date': '2016-09-02', 'max': 81.0, 'min': 75.0},\n",
       " {'avg': 77.4, 'date': '2016-09-03', 'max': 79.0, 'min': 75.0},\n",
       " {'avg': 77.0, 'date': '2016-09-04', 'max': 84.0, 'min': 73.0},\n",
       " {'avg': 79.5, 'date': '2016-09-05', 'max': 84.0, 'min': 76.0},\n",
       " {'avg': 75.66666666666667, 'date': '2016-09-06', 'max': 80.0, 'min': 73.0},\n",
       " {'avg': 75.83333333333333, 'date': '2016-09-07', 'max': 80.0, 'min': 74.0},\n",
       " {'avg': 78.71428571428571, 'date': '2016-09-08', 'max': 81.0, 'min': 74.0},\n",
       " {'avg': 77.42857142857143, 'date': '2016-09-09', 'max': 79.0, 'min': 75.0},\n",
       " {'avg': 76.8, 'date': '2016-09-10', 'max': 78.0, 'min': 75.0},\n",
       " {'avg': 77.2, 'date': '2016-09-11', 'max': 83.0, 'min': 71.0},\n",
       " {'avg': 76.85714285714286, 'date': '2016-09-12', 'max': 79.0, 'min': 72.0},\n",
       " {'avg': 77.57142857142857, 'date': '2016-09-13', 'max': 79.0, 'min': 75.0},\n",
       " {'avg': 75.85714285714286, 'date': '2016-09-14', 'max': 79.0, 'min': 73.0},\n",
       " {'avg': 77.85714285714286, 'date': '2016-09-15', 'max': 81.0, 'min': 73.0}]"
      ]
     },
     "execution_count": 69,
     "metadata": {},
     "output_type": "execute_result"
    }
   ],
   "source": [
    "calc_normals(trip_start, trip_return)"
   ]
  }
 ],
 "metadata": {
  "kernelspec": {
   "display_name": "Python 3",
   "language": "python",
   "name": "python3"
  },
  "language_info": {
   "codemirror_mode": {
    "name": "ipython",
    "version": 3
   },
   "file_extension": ".py",
   "mimetype": "text/x-python",
   "name": "python",
   "nbconvert_exporter": "python",
   "pygments_lexer": "ipython3",
   "version": "3.6.0"
  }
 },
 "nbformat": 4,
 "nbformat_minor": 2
}
