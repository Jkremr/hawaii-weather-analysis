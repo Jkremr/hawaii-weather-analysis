{
 "cells": [
  {
   "cell_type": "code",
   "execution_count": 2,
   "metadata": {
    "collapsed": false
   },
   "outputs": [],
   "source": [
    "import pandas as pd\n",
    "import sqlalchemy\n",
    "from sqlalchemy.ext.automap import automap_base\n",
    "from sqlalchemy.orm import Session\n",
    "from sqlalchemy import create_engine\n",
    "from sqlalchemy import func\n",
    "import matplotlib.pyplot as plt\n",
    "import datetime\n",
    "from dateutil.relativedelta import relativedelta"
   ]
  },
  {
   "cell_type": "code",
   "execution_count": 3,
   "metadata": {
    "collapsed": false
   },
   "outputs": [],
   "source": [
    "engine = create_engine(\"sqlite:///hawaii_weather.sqlite\")"
   ]
  },
  {
   "cell_type": "code",
   "execution_count": 4,
   "metadata": {
    "collapsed": true
   },
   "outputs": [],
   "source": [
    "Base = automap_base()"
   ]
  },
  {
   "cell_type": "code",
   "execution_count": 5,
   "metadata": {
    "collapsed": false
   },
   "outputs": [],
   "source": [
    "Base.prepare(engine, reflect=True)"
   ]
  },
  {
   "cell_type": "code",
   "execution_count": 6,
   "metadata": {
    "collapsed": false
   },
   "outputs": [
    {
     "name": "stdout",
     "output_type": "stream",
     "text": [
      "Engine(sqlite:///hawaii_weather.sqlite)\n"
     ]
    }
   ],
   "source": [
    "print(engine)"
   ]
  },
  {
   "cell_type": "code",
   "execution_count": 7,
   "metadata": {
    "collapsed": false
   },
   "outputs": [
    {
     "data": {
      "text/plain": [
       "['measurement', 'station']"
      ]
     },
     "execution_count": 7,
     "metadata": {},
     "output_type": "execute_result"
    }
   ],
   "source": [
    "Base.classes.keys()"
   ]
  },
  {
   "cell_type": "code",
   "execution_count": 8,
   "metadata": {
    "collapsed": false
   },
   "outputs": [],
   "source": [
    "Measurements = Base.classes.measurement\n",
    "Stations = Base.classes.station"
   ]
  },
  {
   "cell_type": "code",
   "execution_count": 9,
   "metadata": {
    "collapsed": false
   },
   "outputs": [],
   "source": [
    "session = Session(engine)"
   ]
  },
  {
   "cell_type": "code",
   "execution_count": 10,
   "metadata": {
    "collapsed": false
   },
   "outputs": [
    {
     "data": {
      "text/plain": [
       "Table('station', MetaData(bind=None), Column('station_name', VARCHAR(length=255), table=<station>, primary_key=True, nullable=False), Column('location_name', VARCHAR(length=255), table=<station>), Column('latitude', NUMERIC(), table=<station>), Column('longitude', NUMERIC(), table=<station>), Column('elevation', NUMERIC(), table=<station>), schema=None)"
      ]
     },
     "execution_count": 10,
     "metadata": {},
     "output_type": "execute_result"
    }
   ],
   "source": [
    "Stations.__table__"
   ]
  },
  {
   "cell_type": "code",
   "execution_count": 11,
   "metadata": {
    "collapsed": false
   },
   "outputs": [
    {
     "data": {
      "text/plain": [
       "Table('measurement', MetaData(bind=None), Column('id', INTEGER(), table=<measurement>, primary_key=True, nullable=False), Column('station_name', VARCHAR(length=255), ForeignKey('station.station_name'), table=<measurement>), Column('date', DATE(), table=<measurement>), Column('precipitation', VARCHAR(length=255), table=<measurement>), Column('temperature', NUMERIC(), table=<measurement>), schema=None)"
      ]
     },
     "execution_count": 11,
     "metadata": {},
     "output_type": "execute_result"
    }
   ],
   "source": [
    "Measurements.__table__"
   ]
  },
  {
   "cell_type": "code",
   "execution_count": 12,
   "metadata": {
    "collapsed": false
   },
   "outputs": [
    {
     "data": {
      "text/plain": [
       "'2017-08-23'"
      ]
     },
     "execution_count": 12,
     "metadata": {},
     "output_type": "execute_result"
    }
   ],
   "source": [
    "# Find the latest observation, useful for doing queries on the last 12 months of data.\n",
    "latest_observation = session.query(Measurements.date).order_by(Measurements.date.desc()).first()\n",
    "latest_obseration_str = latest_observation[0].strftime('%Y-%m-%d')\n",
    "latest_obseration_str"
   ]
  },
  {
   "cell_type": "code",
   "execution_count": 13,
   "metadata": {
    "collapsed": false
   },
   "outputs": [
    {
     "data": {
      "text/plain": [
       "{'date': '2016-08-24',\n",
       " 'prcp': 0.08,\n",
       " 'station_id': 'USC00519397',\n",
       " 'station_name': 'WAIKIKI 717.2, HI US'}"
      ]
     },
     "execution_count": 13,
     "metadata": {},
     "output_type": "execute_result"
    }
   ],
   "source": [
    "# Return the last 12 months of precipitation observations in the data set.\n",
    "precipitation_last_12 = session.query(Stations.station_name,\\\n",
    "                                      Stations.location_name\\\n",
    "                                     )\\\n",
    "    .join(Measurements, Stations.station_name==Measurements.station_name)\\\n",
    "    .add_columns(Measurements.precipitation, Measurements.date)\\\n",
    "    .filter(Measurements.precipitation.isnot(None))\\\n",
    "    .filter(Measurements.date > (latest_observation[0] - relativedelta(years=1)).strftime('%Y-%m-%d'))\\\n",
    "    .order_by(Measurements.date).all()\n",
    "precipitation_last_12_dict = [\n",
    "   dict( (k,v) for (k,v) in zip(('station_id', 'station_name', 'prcp', 'date'), (x[0], x[1], float(x[2]), x[3].strftime('%Y-%m-%d')) ) )\n",
    "for x in precipitation_last_12\n",
    "]\n",
    "precipitation_last_12_dict[0]"
   ]
  },
  {
   "cell_type": "code",
   "execution_count": 14,
   "metadata": {
    "collapsed": false
   },
   "outputs": [
    {
     "name": "stdout",
     "output_type": "stream",
     "text": [
      "The number of weather stations in our SQLite DB is 9.\n"
     ]
    }
   ],
   "source": [
    "# Return a count of the stations in the data set.\n",
    "station_count = session.query(Stations.station_name).count()\n",
    "station_count\n",
    "print('The number of weather stations in our SQLite DB is %r.' % station_count)"
   ]
  },
  {
   "cell_type": "code",
   "execution_count": 15,
   "metadata": {
    "collapsed": false
   },
   "outputs": [
    {
     "data": {
      "text/plain": [
       "{'station_id': 'USC00518838',\n",
       " 'station_name': 'UPPER WAHIAWA 874.3, HI US',\n",
       " 'temperature_observations': 511}"
      ]
     },
     "execution_count": 15,
     "metadata": {},
     "output_type": "execute_result"
    }
   ],
   "source": [
    "# The most active stations by number of temperature observations.\n",
    "most_active_sations_tmp = session.query(Stations.station_name,\\\n",
    "                                      Stations.location_name\\\n",
    "                                     )\\\n",
    "    .join(Measurements, Stations.station_name==Measurements.station_name)\\\n",
    "    .add_columns(func.count(Measurements.id).label('tmp_total'))\\\n",
    "    .filter(Measurements.temperature.isnot(None))\\\n",
    "    .group_by(Measurements.station_name).order_by(func.count(Measurements.id).desc()).all()\n",
    "\n",
    "most_active_sations_tmp_dict = [\n",
    "   dict( (k,v) for (k,v) in zip(('station_id', 'station_name', 'temperature_observations'), (str(x[0]), str(x[1]), int(x[2])) ) )\n",
    "for x in most_active_sations_tmp\n",
    "]\n",
    "\n",
    "most_active_sations_tmp_dict[-1]"
   ]
  },
  {
   "cell_type": "code",
   "execution_count": 68,
   "metadata": {
    "collapsed": false
   },
   "outputs": [
    {
     "data": {
      "text/plain": [
       "{'precipitation_observations': 342,\n",
       " 'station_id': 'USC00518838',\n",
       " 'station_name': 'UPPER WAHIAWA 874.3, HI US'}"
      ]
     },
     "execution_count": 68,
     "metadata": {},
     "output_type": "execute_result"
    }
   ],
   "source": [
    "# The most active stations by number of precipitation observations, distinct from the above query because\n",
    "# some of the recordings that contain temperature data have null values for precipitation, which are here filtered out.\n",
    "most_active_sations_prcp = session.query(Stations.station_name,\\\n",
    "                                      Stations.location_name\\\n",
    "                                     )\\\n",
    "    .join(Measurements, Stations.station_name==Measurements.station_name)\\\n",
    "    .add_columns(func.count(Measurements.id).label('tmp_total'))\\\n",
    "    .filter(Measurements.precipitation.isnot(None))\\\n",
    "    .group_by(Measurements.station_name).order_by(func.count(Measurements.id).desc()).all()\n",
    "\n",
    "most_active_sations_prcp_dict = [\n",
    "   dict( (k,v) for (k,v) in zip(('station_id', 'station_name', 'precipitation_observations'), (str(x[0]), str(x[1]), int(x[2])) ) )\n",
    "for x in most_active_sations_prcp\n",
    "]\n",
    "\n",
    "most_active_sations_prcp_dict[-1]"
   ]
  },
  {
   "cell_type": "code",
   "execution_count": 1,
   "metadata": {
    "collapsed": false
   },
   "outputs": [
    {
     "ename": "NameError",
     "evalue": "name 'session' is not defined",
     "output_type": "error",
     "traceback": [
      "\u001b[0;31m---------------------------------------------------------------------------\u001b[0m",
      "\u001b[0;31mNameError\u001b[0m                                 Traceback (most recent call last)",
      "\u001b[0;32m<ipython-input-1-208e6e403c83>\u001b[0m in \u001b[0;36m<module>\u001b[0;34m()\u001b[0m\n\u001b[1;32m      1\u001b[0m \u001b[0;31m# Retrieve just the station names and details.\u001b[0m\u001b[0;34m\u001b[0m\u001b[0;34m\u001b[0m\u001b[0m\n\u001b[0;32m----> 2\u001b[0;31m \u001b[0mstation_info\u001b[0m \u001b[0;34m=\u001b[0m \u001b[0msession\u001b[0m\u001b[0;34m.\u001b[0m\u001b[0mquery\u001b[0m\u001b[0;34m(\u001b[0m\u001b[0mStations\u001b[0m\u001b[0;34m.\u001b[0m\u001b[0mstation_name\u001b[0m\u001b[0;34m,\u001b[0m                                         \u001b[0mStations\u001b[0m\u001b[0;34m.\u001b[0m\u001b[0mlocation_name\u001b[0m\u001b[0;34m,\u001b[0m                                         \u001b[0mStations\u001b[0m\u001b[0;34m.\u001b[0m\u001b[0mlatitude\u001b[0m\u001b[0;34m,\u001b[0m                                         \u001b[0mStations\u001b[0m\u001b[0;34m.\u001b[0m\u001b[0mlongitude\u001b[0m\u001b[0;34m,\u001b[0m                                         \u001b[0mStations\u001b[0m\u001b[0;34m.\u001b[0m\u001b[0melevation\u001b[0m\u001b[0;34m,\u001b[0m                                        \u001b[0;34m)\u001b[0m\u001b[0;34m.\u001b[0m\u001b[0mall\u001b[0m\u001b[0;34m(\u001b[0m\u001b[0;34m)\u001b[0m\u001b[0;34m\u001b[0m\u001b[0m\n\u001b[0m\u001b[1;32m      3\u001b[0m \u001b[0;34m\u001b[0m\u001b[0m\n\u001b[1;32m      4\u001b[0m \u001b[0mstations_labels\u001b[0m \u001b[0;34m=\u001b[0m \u001b[0;34m(\u001b[0m\u001b[0;34m'station_id'\u001b[0m\u001b[0;34m,\u001b[0m \u001b[0;34m'station_name'\u001b[0m\u001b[0;34m,\u001b[0m \u001b[0;34m'latitude'\u001b[0m\u001b[0;34m,\u001b[0m \u001b[0;34m'longitude'\u001b[0m\u001b[0;34m,\u001b[0m \u001b[0;34m'elevation'\u001b[0m\u001b[0;34m)\u001b[0m\u001b[0;34m\u001b[0m\u001b[0m\n\u001b[1;32m      5\u001b[0m \u001b[0;34m\u001b[0m\u001b[0m\n",
      "\u001b[0;31mNameError\u001b[0m: name 'session' is not defined"
     ]
    }
   ],
   "source": [
    "# Retrieve just the station names and details.\n",
    "station_info = session.query(Stations.station_name,\\\n",
    "                                         Stations.location_name,\\\n",
    "                                         Stations.latitude,\\\n",
    "                                         Stations.longitude,\\\n",
    "                                         Stations.elevation,\\\n",
    "                                        ).all()\n",
    "\n",
    "stations_labels = ('station_id', 'station_name', 'latitude', 'longitude', 'elevation')\n",
    "\n",
    "station_info_dict = [\n",
    "   dict( (k,v) for (k,v) in zip(stations_labels, (str(x[0]), str(x[1]), float(x[2]), float(x[3]), float(x[4])) ) )\n",
    "for x in station_info\n",
    "]"
   ]
  },
  {
   "cell_type": "code",
   "execution_count": 14,
   "metadata": {
    "collapsed": false
   },
   "outputs": [
    {
     "name": "stdout",
     "output_type": "stream",
     "text": [
      "The station with the largest number of temperature readings over the last 12 months of data is 'USC00519397'.\n"
     ]
    }
   ],
   "source": [
    "# Find the most active station in the last 12 months. \n",
    "most_active_station_last_12_mos = session.query(Measurements.station_name, func.count(Measurements.id).label('tmp_total'))\\\n",
    "    .filter(Measurements.date >'2016-08-23').group_by(Measurements.station_name).order_by(func.count(Measurements.id).desc()).first()\n",
    "print('The station with the largest number of temperature readings over the last 12 months of \\\n",
    "data is %r.' % most_active_station_last_12_mos[0])"
   ]
  },
  {
   "cell_type": "code",
   "execution_count": 15,
   "metadata": {
    "collapsed": false
   },
   "outputs": [
    {
     "name": "stderr",
     "output_type": "stream",
     "text": [
      "/Users/jakram/anaconda/lib/python3.6/site-packages/sqlalchemy/sql/sqltypes.py:596: SAWarning: Dialect sqlite+pysqlite does *not* support Decimal objects natively, and SQLAlchemy must convert from floating point - rounding errors and other issues may occur. Please consider storing Decimal numbers as strings or integers on this platform for lossless storage.\n",
      "  'storage.' % (dialect.name, dialect.driver))\n"
     ]
    }
   ],
   "source": [
    "# Retrieve the last 12 months of temperature readings from the most active sation.\n",
    "temp_measures_most_active_last_12_mos = session.query(Measurements.date, Measurements.temperature)\\\n",
    "    .filter(Measurements.station_name.contains(\"USC00519397\")).filter(Measurements.date > '2016-08-23').all()\n"
   ]
  },
  {
   "cell_type": "code",
   "execution_count": 16,
   "metadata": {
    "collapsed": false
   },
   "outputs": [
    {
     "data": {
      "text/plain": [
       "'2016-06-12'"
      ]
     },
     "execution_count": 16,
     "metadata": {},
     "output_type": "execute_result"
    }
   ],
   "source": [
    "def convert_date(year, month, date):\n",
    "    orig_date = datetime.datetime(year, month, date)\n",
    "    orig_date = str(orig_date)\n",
    "    d = datetime.datetime.strptime(orig_date, '%Y-%m-%d %H:%M:%S')\n",
    "    d = d.strftime('%Y-%m-%d')\n",
    "    return d\n",
    "\n",
    "convert_date(2016,6,12)"
   ]
  },
  {
   "cell_type": "code",
   "execution_count": 17,
   "metadata": {
    "collapsed": false
   },
   "outputs": [],
   "source": [
    "trip_start = datetime.datetime(2016,9,1)\n",
    "trip_return = datetime.datetime(2016,9,15)\n",
    "\n",
    "trip_start_str = trip_start.strftime('%Y-%m-%d')\n",
    "trip_return_str = trip_return.strftime('%Y-%m-%d')\n",
    "\n",
    "trip_start_prior_year_str = (trip_start - relativedelta(years=1)).strftime('%Y-%m-%d')\n",
    "trip_return_prior_year_str = (trip_return - relativedelta(years=1)).strftime('%Y-%m-%d')"
   ]
  },
  {
   "cell_type": "code",
   "execution_count": 18,
   "metadata": {
    "collapsed": false
   },
   "outputs": [],
   "source": [
    "def calc_temps(start_date, end_date):\n",
    "    labels = ['min', 'max', 'avg']\n",
    "    temperatures = session.query(func.min(Measurements.temperature),\n",
    "                                 func.max(Measurements.temperature),\n",
    "                                 func.avg(Measurements.temperature)\n",
    "                                )\\\n",
    "                                .filter(Measurements.date >= start_date, Measurements.date <= end_date).all()\n",
    "    temperatures = [float(x) for x in temperatures[0]]\n",
    "    d = dict((key, value) for (key, value) in zip(labels,temperatures))\n",
    "\n",
    "    return d"
   ]
  },
  {
   "cell_type": "code",
   "execution_count": 19,
   "metadata": {
    "collapsed": false
   },
   "outputs": [
    {
     "data": {
      "text/plain": [
       "{'avg': 77.40229885057471, 'max': 84.0, 'min': 71.0}"
      ]
     },
     "execution_count": 19,
     "metadata": {},
     "output_type": "execute_result"
    }
   ],
   "source": [
    "calc_temps(trip_start, trip_return)"
   ]
  },
  {
   "cell_type": "code",
   "execution_count": 20,
   "metadata": {
    "collapsed": false
   },
   "outputs": [],
   "source": [
    "def calc_normals(start_date, end_date=None):\n",
    "    if end_date == None:\n",
    "        end_date = datetime.datetime.now().strftime(\"%Y-%m-%d\")\n",
    "    else:\n",
    "        end_date\n",
    "    \n",
    "    labels = ['date','min', 'max', 'avg']\n",
    "\n",
    "    normals = session.query(\n",
    "        Measurements.date,\n",
    "        func.min(Measurements.temperature),\n",
    "        func.max(Measurements.temperature),\n",
    "        func.avg(Measurements.temperature)\n",
    "                                )\\\n",
    "                                .group_by(Measurements.date)\\\n",
    "                                .filter(Measurements.date >= start_date, Measurements.date <= end_date).all()\n",
    "    l = [[x[0].strftime('%Y-%m-%d'), float(x[1]), float(x[2]), float(x[3])] for x in normals]\n",
    "    d = [dict((k,v) for (k,v) in zip(labels,x)) for x in l]\n",
    "    return d"
   ]
  },
  {
   "cell_type": "code",
   "execution_count": 21,
   "metadata": {
    "collapsed": false
   },
   "outputs": [
    {
     "data": {
      "text/plain": [
       "'2017-10-23'"
      ]
     },
     "execution_count": 21,
     "metadata": {},
     "output_type": "execute_result"
    }
   ],
   "source": [
    "datetime.datetime.now().strftime(\"%Y-%m-%d\")"
   ]
  },
  {
   "cell_type": "code",
   "execution_count": 22,
   "metadata": {
    "collapsed": false
   },
   "outputs": [
    {
     "data": {
      "text/plain": [
       "[{'avg': 79.42857142857143, 'date': '2016-09-02', 'max': 81.0, 'min': 75.0},\n",
       " {'avg': 77.4, 'date': '2016-09-03', 'max': 79.0, 'min': 75.0},\n",
       " {'avg': 77.0, 'date': '2016-09-04', 'max': 84.0, 'min': 73.0},\n",
       " {'avg': 79.5, 'date': '2016-09-05', 'max': 84.0, 'min': 76.0},\n",
       " {'avg': 75.66666666666667, 'date': '2016-09-06', 'max': 80.0, 'min': 73.0},\n",
       " {'avg': 75.83333333333333, 'date': '2016-09-07', 'max': 80.0, 'min': 74.0},\n",
       " {'avg': 78.71428571428571, 'date': '2016-09-08', 'max': 81.0, 'min': 74.0},\n",
       " {'avg': 77.42857142857143, 'date': '2016-09-09', 'max': 79.0, 'min': 75.0},\n",
       " {'avg': 76.8, 'date': '2016-09-10', 'max': 78.0, 'min': 75.0},\n",
       " {'avg': 77.2, 'date': '2016-09-11', 'max': 83.0, 'min': 71.0},\n",
       " {'avg': 76.85714285714286, 'date': '2016-09-12', 'max': 79.0, 'min': 72.0},\n",
       " {'avg': 77.57142857142857, 'date': '2016-09-13', 'max': 79.0, 'min': 75.0},\n",
       " {'avg': 75.85714285714286, 'date': '2016-09-14', 'max': 79.0, 'min': 73.0},\n",
       " {'avg': 77.85714285714286, 'date': '2016-09-15', 'max': 81.0, 'min': 73.0},\n",
       " {'avg': 77.85714285714286, 'date': '2016-09-16', 'max': 80.0, 'min': 73.0},\n",
       " {'avg': 78.6, 'date': '2016-09-17', 'max': 81.0, 'min': 76.0},\n",
       " {'avg': 78.6, 'date': '2016-09-18', 'max': 81.0, 'min': 75.0},\n",
       " {'avg': 76.57142857142857, 'date': '2016-09-19', 'max': 79.0, 'min': 70.0},\n",
       " {'avg': 75.85714285714286, 'date': '2016-09-20', 'max': 80.0, 'min': 70.0},\n",
       " {'avg': 76.66666666666667, 'date': '2016-09-21', 'max': 80.0, 'min': 73.0},\n",
       " {'avg': 76.57142857142857, 'date': '2016-09-22', 'max': 79.0, 'min': 73.0},\n",
       " {'avg': 78.57142857142857, 'date': '2016-09-23', 'max': 82.0, 'min': 73.0},\n",
       " {'avg': 80.16666666666667, 'date': '2016-09-24', 'max': 83.0, 'min': 77.0},\n",
       " {'avg': 79.0, 'date': '2016-09-25', 'max': 82.0, 'min': 76.0},\n",
       " {'avg': 77.71428571428571, 'date': '2016-09-26', 'max': 80.0, 'min': 74.0},\n",
       " {'avg': 78.0, 'date': '2016-09-27', 'max': 80.0, 'min': 74.0},\n",
       " {'avg': 78.28571428571429, 'date': '2016-09-28', 'max': 80.0, 'min': 77.0},\n",
       " {'avg': 78.85714285714286, 'date': '2016-09-29', 'max': 82.0, 'min': 76.0},\n",
       " {'avg': 78.0, 'date': '2016-09-30', 'max': 80.0, 'min': 73.0},\n",
       " {'avg': 77.5, 'date': '2016-10-01', 'max': 80.0, 'min': 74.0},\n",
       " {'avg': 78.16666666666667, 'date': '2016-10-02', 'max': 81.0, 'min': 73.0},\n",
       " {'avg': 78.57142857142857, 'date': '2016-10-03', 'max': 80.0, 'min': 76.0},\n",
       " {'avg': 78.28571428571429, 'date': '2016-10-04', 'max': 81.0, 'min': 74.0},\n",
       " {'avg': 78.71428571428571, 'date': '2016-10-05', 'max': 80.0, 'min': 75.0},\n",
       " {'avg': 77.85714285714286, 'date': '2016-10-06', 'max': 80.0, 'min': 75.0},\n",
       " {'avg': 77.42857142857143, 'date': '2016-10-07', 'max': 79.0, 'min': 73.0},\n",
       " {'avg': 76.6, 'date': '2016-10-08', 'max': 82.0, 'min': 73.0},\n",
       " {'avg': 76.4, 'date': '2016-10-09', 'max': 80.0, 'min': 72.0},\n",
       " {'avg': 75.0, 'date': '2016-10-10', 'max': 78.0, 'min': 71.0},\n",
       " {'avg': 78.28571428571429, 'date': '2016-10-11', 'max': 81.0, 'min': 74.0},\n",
       " {'avg': 78.83333333333333, 'date': '2016-10-12', 'max': 81.0, 'min': 75.0},\n",
       " {'avg': 78.57142857142857, 'date': '2016-10-13', 'max': 81.0, 'min': 75.0},\n",
       " {'avg': 78.0, 'date': '2016-10-14', 'max': 80.0, 'min': 73.0},\n",
       " {'avg': 77.66666666666667, 'date': '2016-10-15', 'max': 81.0, 'min': 74.0},\n",
       " {'avg': 78.0, 'date': '2016-10-16', 'max': 81.0, 'min': 75.0},\n",
       " {'avg': 77.14285714285714, 'date': '2016-10-17', 'max': 80.0, 'min': 70.0},\n",
       " {'avg': 78.42857142857143, 'date': '2016-10-18', 'max': 80.0, 'min': 74.0},\n",
       " {'avg': 77.57142857142857, 'date': '2016-10-19', 'max': 81.0, 'min': 70.0},\n",
       " {'avg': 76.83333333333333, 'date': '2016-10-20', 'max': 79.0, 'min': 73.0},\n",
       " {'avg': 76.85714285714286, 'date': '2016-10-21', 'max': 79.0, 'min': 74.0},\n",
       " {'avg': 77.6, 'date': '2016-10-22', 'max': 80.0, 'min': 75.0},\n",
       " {'avg': 76.83333333333333, 'date': '2016-10-23', 'max': 81.0, 'min': 72.0},\n",
       " {'avg': 75.28571428571429, 'date': '2016-10-24', 'max': 77.0, 'min': 71.0},\n",
       " {'avg': 77.0, 'date': '2016-10-25', 'max': 81.0, 'min': 74.0},\n",
       " {'avg': 75.16666666666667, 'date': '2016-10-26', 'max': 78.0, 'min': 73.0},\n",
       " {'avg': 76.0, 'date': '2016-10-27', 'max': 78.0, 'min': 71.0},\n",
       " {'avg': 75.57142857142857, 'date': '2016-10-28', 'max': 78.0, 'min': 68.0},\n",
       " {'avg': 76.0, 'date': '2016-10-29', 'max': 78.0, 'min': 71.0},\n",
       " {'avg': 77.16666666666667, 'date': '2016-10-30', 'max': 79.0, 'min': 76.0},\n",
       " {'avg': 75.42857142857143, 'date': '2016-10-31', 'max': 78.0, 'min': 69.0},\n",
       " {'avg': 76.16666666666667, 'date': '2016-11-01', 'max': 79.0, 'min': 73.0},\n",
       " {'avg': 76.33333333333333, 'date': '2016-11-02', 'max': 78.0, 'min': 75.0},\n",
       " {'avg': 75.66666666666667, 'date': '2016-11-03', 'max': 77.0, 'min': 74.0},\n",
       " {'avg': 76.0, 'date': '2016-11-04', 'max': 77.0, 'min': 74.0},\n",
       " {'avg': 74.5, 'date': '2016-11-05', 'max': 78.0, 'min': 69.0},\n",
       " {'avg': 75.83333333333333, 'date': '2016-11-06', 'max': 78.0, 'min': 71.0},\n",
       " {'avg': 71.0, 'date': '2016-11-07', 'max': 76.0, 'min': 63.0},\n",
       " {'avg': 72.16666666666667, 'date': '2016-11-08', 'max': 77.0, 'min': 70.0},\n",
       " {'avg': 72.14285714285714, 'date': '2016-11-09', 'max': 76.0, 'min': 68.0},\n",
       " {'avg': 70.83333333333333, 'date': '2016-11-10', 'max': 75.0, 'min': 67.0},\n",
       " {'avg': 72.83333333333333, 'date': '2016-11-11', 'max': 77.0, 'min': 67.0},\n",
       " {'avg': 73.83333333333333, 'date': '2016-11-12', 'max': 79.0, 'min': 68.0},\n",
       " {'avg': 75.0, 'date': '2016-11-13', 'max': 79.0, 'min': 72.0},\n",
       " {'avg': 77.0, 'date': '2016-11-14', 'max': 79.0, 'min': 74.0},\n",
       " {'avg': 76.28571428571429, 'date': '2016-11-15', 'max': 78.0, 'min': 72.0},\n",
       " {'avg': 76.0, 'date': '2016-11-16', 'max': 78.0, 'min': 72.0},\n",
       " {'avg': 76.28571428571429, 'date': '2016-11-17', 'max': 77.0, 'min': 75.0},\n",
       " {'avg': 76.4, 'date': '2016-11-18', 'max': 78.0, 'min': 75.0},\n",
       " {'avg': 74.25, 'date': '2016-11-19', 'max': 76.0, 'min': 73.0},\n",
       " {'avg': 76.0, 'date': '2016-11-20', 'max': 80.0, 'min': 74.0},\n",
       " {'avg': 73.83333333333333, 'date': '2016-11-21', 'max': 76.0, 'min': 71.0},\n",
       " {'avg': 75.28571428571429, 'date': '2016-11-22', 'max': 76.0, 'min': 73.0},\n",
       " {'avg': 73.66666666666667, 'date': '2016-11-23', 'max': 77.0, 'min': 69.0},\n",
       " {'avg': 73.6, 'date': '2016-11-24', 'max': 75.0, 'min': 69.0},\n",
       " {'avg': 74.0, 'date': '2016-11-25', 'max': 76.0, 'min': 69.0},\n",
       " {'avg': 75.0, 'date': '2016-11-26', 'max': 78.0, 'min': 70.0},\n",
       " {'avg': 74.5, 'date': '2016-11-27', 'max': 78.0, 'min': 69.0},\n",
       " {'avg': 75.0, 'date': '2016-11-28', 'max': 77.0, 'min': 71.0},\n",
       " {'avg': 72.42857142857143, 'date': '2016-11-29', 'max': 76.0, 'min': 67.0},\n",
       " {'avg': 74.42857142857143, 'date': '2016-11-30', 'max': 76.0, 'min': 72.0},\n",
       " {'avg': 73.71428571428571, 'date': '2016-12-01', 'max': 76.0, 'min': 71.0},\n",
       " {'avg': 72.28571428571429, 'date': '2016-12-02', 'max': 77.0, 'min': 70.0},\n",
       " {'avg': 71.5, 'date': '2016-12-03', 'max': 75.0, 'min': 67.0},\n",
       " {'avg': 73.0, 'date': '2016-12-04', 'max': 77.0, 'min': 69.0},\n",
       " {'avg': 69.14285714285714, 'date': '2016-12-05', 'max': 76.0, 'min': 67.0},\n",
       " {'avg': 69.16666666666667, 'date': '2016-12-06', 'max': 74.0, 'min': 67.0},\n",
       " {'avg': 71.14285714285714, 'date': '2016-12-07', 'max': 76.0, 'min': 68.0},\n",
       " {'avg': 72.0, 'date': '2016-12-08', 'max': 75.0, 'min': 70.0},\n",
       " {'avg': 69.66666666666667, 'date': '2016-12-09', 'max': 72.0, 'min': 68.0},\n",
       " {'avg': 71.0, 'date': '2016-12-10', 'max': 76.0, 'min': 68.0},\n",
       " {'avg': 71.6, 'date': '2016-12-11', 'max': 78.0, 'min': 69.0},\n",
       " {'avg': 68.14285714285714, 'date': '2016-12-12', 'max': 75.0, 'min': 65.0},\n",
       " {'avg': 68.42857142857143, 'date': '2016-12-13', 'max': 72.0, 'min': 65.0},\n",
       " {'avg': 69.71428571428571, 'date': '2016-12-14', 'max': 72.0, 'min': 68.0},\n",
       " {'avg': 68.42857142857143, 'date': '2016-12-15', 'max': 75.0, 'min': 62.0},\n",
       " {'avg': 65.42857142857143, 'date': '2016-12-16', 'max': 75.0, 'min': 60.0},\n",
       " {'avg': 72.6, 'date': '2016-12-17', 'max': 76.0, 'min': 70.0},\n",
       " {'avg': 71.0, 'date': '2016-12-18', 'max': 76.0, 'min': 67.0},\n",
       " {'avg': 72.28571428571429, 'date': '2016-12-19', 'max': 78.0, 'min': 69.0},\n",
       " {'avg': 75.57142857142857, 'date': '2016-12-20', 'max': 77.0, 'min': 73.0},\n",
       " {'avg': 73.71428571428571, 'date': '2016-12-21', 'max': 77.0, 'min': 70.0},\n",
       " {'avg': 71.0, 'date': '2016-12-22', 'max': 73.0, 'min': 68.0},\n",
       " {'avg': 70.42857142857143, 'date': '2016-12-23', 'max': 73.0, 'min': 68.0},\n",
       " {'avg': 73.66666666666667, 'date': '2016-12-24', 'max': 78.0, 'min': 69.0},\n",
       " {'avg': 73.8, 'date': '2016-12-25', 'max': 78.0, 'min': 69.0},\n",
       " {'avg': 73.33333333333333, 'date': '2016-12-26', 'max': 75.0, 'min': 71.0},\n",
       " {'avg': 73.0, 'date': '2016-12-27', 'max': 75.0, 'min': 71.0},\n",
       " {'avg': 71.57142857142857, 'date': '2016-12-28', 'max': 73.0, 'min': 71.0},\n",
       " {'avg': 72.71428571428571, 'date': '2016-12-29', 'max': 77.0, 'min': 69.0},\n",
       " {'avg': 69.0, 'date': '2016-12-30', 'max': 72.0, 'min': 65.0},\n",
       " {'avg': 68.2, 'date': '2016-12-31', 'max': 72.0, 'min': 65.0},\n",
       " {'avg': 69.33333333333333, 'date': '2017-01-01', 'max': 74.0, 'min': 62.0},\n",
       " {'avg': 69.2, 'date': '2017-01-02', 'max': 74.0, 'min': 66.0},\n",
       " {'avg': 67.66666666666667, 'date': '2017-01-03', 'max': 73.0, 'min': 63.0},\n",
       " {'avg': 67.16666666666667, 'date': '2017-01-04', 'max': 73.0, 'min': 62.0},\n",
       " {'avg': 67.5, 'date': '2017-01-05', 'max': 72.0, 'min': 63.0},\n",
       " {'avg': 67.66666666666667, 'date': '2017-01-06', 'max': 74.0, 'min': 62.0},\n",
       " {'avg': 70.16666666666667, 'date': '2017-01-07', 'max': 72.0, 'min': 66.0},\n",
       " {'avg': 67.66666666666667, 'date': '2017-01-08', 'max': 74.0, 'min': 60.0},\n",
       " {'avg': 67.71428571428571, 'date': '2017-01-09', 'max': 77.0, 'min': 62.0},\n",
       " {'avg': 66.71428571428571, 'date': '2017-01-10', 'max': 75.0, 'min': 62.0},\n",
       " {'avg': 69.33333333333333, 'date': '2017-01-11', 'max': 78.0, 'min': 63.0},\n",
       " {'avg': 69.16666666666667, 'date': '2017-01-12', 'max': 81.0, 'min': 65.0},\n",
       " {'avg': 69.33333333333333, 'date': '2017-01-13', 'max': 75.0, 'min': 67.0},\n",
       " {'avg': 71.0, 'date': '2017-01-14', 'max': 77.0, 'min': 65.0},\n",
       " {'avg': 69.8, 'date': '2017-01-15', 'max': 78.0, 'min': 66.0},\n",
       " {'avg': 72.33333333333333, 'date': '2017-01-16', 'max': 80.0, 'min': 67.0},\n",
       " {'avg': 70.5, 'date': '2017-01-17', 'max': 75.0, 'min': 66.0},\n",
       " {'avg': 73.28571428571429, 'date': '2017-01-18', 'max': 75.0, 'min': 72.0},\n",
       " {'avg': 72.85714285714286, 'date': '2017-01-19', 'max': 78.0, 'min': 66.0},\n",
       " {'avg': 71.0, 'date': '2017-01-20', 'max': 74.0, 'min': 67.0},\n",
       " {'avg': 71.5, 'date': '2017-01-21', 'max': 74.0, 'min': 67.0},\n",
       " {'avg': 71.2, 'date': '2017-01-22', 'max': 74.0, 'min': 68.0},\n",
       " {'avg': 73.0, 'date': '2017-01-23', 'max': 77.0, 'min': 70.0},\n",
       " {'avg': 70.33333333333333, 'date': '2017-01-24', 'max': 74.0, 'min': 67.0},\n",
       " {'avg': 71.0, 'date': '2017-01-25', 'max': 73.0, 'min': 69.0},\n",
       " {'avg': 71.14285714285714, 'date': '2017-01-26', 'max': 74.0, 'min': 67.0},\n",
       " {'avg': 68.0, 'date': '2017-01-27', 'max': 74.0, 'min': 63.0},\n",
       " {'avg': 68.0, 'date': '2017-01-28', 'max': 76.0, 'min': 64.0},\n",
       " {'avg': 69.4, 'date': '2017-01-29', 'max': 73.0, 'min': 67.0},\n",
       " {'avg': 68.42857142857143, 'date': '2017-01-30', 'max': 71.0, 'min': 66.0},\n",
       " {'avg': 68.28571428571429, 'date': '2017-01-31', 'max': 70.0, 'min': 65.0},\n",
       " {'avg': 68.0, 'date': '2017-02-01', 'max': 72.0, 'min': 62.0},\n",
       " {'avg': 64.14285714285714, 'date': '2017-02-02', 'max': 72.0, 'min': 59.0},\n",
       " {'avg': 66.0, 'date': '2017-02-03', 'max': 73.0, 'min': 60.0},\n",
       " {'avg': 70.2, 'date': '2017-02-04', 'max': 76.0, 'min': 66.0},\n",
       " {'avg': 74.5, 'date': '2017-02-05', 'max': 80.0, 'min': 69.0},\n",
       " {'avg': 75.28571428571429, 'date': '2017-02-06', 'max': 77.0, 'min': 73.0},\n",
       " {'avg': 68.28571428571429, 'date': '2017-02-07', 'max': 76.0, 'min': 64.0},\n",
       " {'avg': 65.85714285714286, 'date': '2017-02-08', 'max': 74.0, 'min': 59.0},\n",
       " {'avg': 63.285714285714285, 'date': '2017-02-09', 'max': 71.0, 'min': 59.0},\n",
       " {'avg': 68.28571428571429, 'date': '2017-02-10', 'max': 74.0, 'min': 62.0},\n",
       " {'avg': 67.83333333333333, 'date': '2017-02-11', 'max': 70.0, 'min': 65.0},\n",
       " {'avg': 69.83333333333333, 'date': '2017-02-12', 'max': 76.0, 'min': 65.0},\n",
       " {'avg': 74.14285714285714, 'date': '2017-02-13', 'max': 80.0, 'min': 68.0},\n",
       " {'avg': 76.66666666666667, 'date': '2017-02-14', 'max': 79.0, 'min': 72.0},\n",
       " {'avg': 74.57142857142857, 'date': '2017-02-15', 'max': 76.0, 'min': 71.0},\n",
       " {'avg': 71.0, 'date': '2017-02-16', 'max': 74.0, 'min': 65.0},\n",
       " {'avg': 71.5, 'date': '2017-02-17', 'max': 77.0, 'min': 67.0},\n",
       " {'avg': 70.4, 'date': '2017-02-18', 'max': 74.0, 'min': 67.0},\n",
       " {'avg': 69.25, 'date': '2017-02-19', 'max': 70.0, 'min': 68.0},\n",
       " {'avg': 70.66666666666667, 'date': '2017-02-20', 'max': 72.0, 'min': 69.0},\n",
       " {'avg': 69.66666666666667, 'date': '2017-02-21', 'max': 71.0, 'min': 65.0},\n",
       " {'avg': 71.14285714285714, 'date': '2017-02-22', 'max': 72.0, 'min': 69.0},\n",
       " {'avg': 72.42857142857143, 'date': '2017-02-23', 'max': 75.0, 'min': 70.0},\n",
       " {'avg': 69.42857142857143, 'date': '2017-02-24', 'max': 71.0, 'min': 68.0},\n",
       " {'avg': 63.5, 'date': '2017-02-25', 'max': 66.0, 'min': 61.0},\n",
       " {'avg': 66.83333333333333, 'date': '2017-02-26', 'max': 75.0, 'min': 63.0},\n",
       " {'avg': 69.85714285714286, 'date': '2017-02-27', 'max': 77.0, 'min': 65.0},\n",
       " {'avg': 72.28571428571429, 'date': '2017-02-28', 'max': 74.0, 'min': 69.0},\n",
       " {'avg': 69.0, 'date': '2017-03-01', 'max': 73.0, 'min': 64.0},\n",
       " {'avg': 73.16666666666667, 'date': '2017-03-02', 'max': 75.0, 'min': 72.0},\n",
       " {'avg': 72.71428571428571, 'date': '2017-03-03', 'max': 78.0, 'min': 69.0},\n",
       " {'avg': 74.8, 'date': '2017-03-04', 'max': 77.0, 'min': 70.0},\n",
       " {'avg': 70.5, 'date': '2017-03-05', 'max': 73.0, 'min': 68.0},\n",
       " {'avg': 69.71428571428571, 'date': '2017-03-06', 'max': 76.0, 'min': 66.0},\n",
       " {'avg': 68.0, 'date': '2017-03-07', 'max': 74.0, 'min': 62.0},\n",
       " {'avg': 69.0, 'date': '2017-03-08', 'max': 74.0, 'min': 64.0},\n",
       " {'avg': 69.28571428571429, 'date': '2017-03-09', 'max': 72.0, 'min': 67.0},\n",
       " {'avg': 68.42857142857143, 'date': '2017-03-10', 'max': 75.0, 'min': 65.0},\n",
       " {'avg': 76.6, 'date': '2017-03-11', 'max': 82.0, 'min': 68.0},\n",
       " {'avg': 73.4, 'date': '2017-03-12', 'max': 80.0, 'min': 69.0},\n",
       " {'avg': 70.14285714285714, 'date': '2017-03-13', 'max': 77.0, 'min': 66.0},\n",
       " {'avg': 72.42857142857143, 'date': '2017-03-14', 'max': 77.0, 'min': 67.0},\n",
       " {'avg': 72.16666666666667, 'date': '2017-03-15', 'max': 76.0, 'min': 69.0},\n",
       " {'avg': 71.28571428571429, 'date': '2017-03-16', 'max': 77.0, 'min': 66.0},\n",
       " {'avg': 70.5, 'date': '2017-03-17', 'max': 72.0, 'min': 68.0},\n",
       " {'avg': 70.16666666666667, 'date': '2017-03-18', 'max': 76.0, 'min': 65.0},\n",
       " {'avg': 73.4, 'date': '2017-03-19', 'max': 74.0, 'min': 72.0},\n",
       " {'avg': 73.66666666666667, 'date': '2017-03-20', 'max': 77.0, 'min': 69.0},\n",
       " {'avg': 73.83333333333333, 'date': '2017-03-21', 'max': 76.0, 'min': 72.0},\n",
       " {'avg': 74.0, 'date': '2017-03-22', 'max': 76.0, 'min': 72.0},\n",
       " {'avg': 73.16666666666667, 'date': '2017-03-23', 'max': 78.0, 'min': 70.0},\n",
       " {'avg': 72.83333333333333, 'date': '2017-03-24', 'max': 76.0, 'min': 70.0},\n",
       " {'avg': 74.2, 'date': '2017-03-25', 'max': 76.0, 'min': 72.0},\n",
       " {'avg': 76.0, 'date': '2017-03-26', 'max': 80.0, 'min': 72.0},\n",
       " {'avg': 75.5, 'date': '2017-03-27', 'max': 78.0, 'min': 74.0},\n",
       " {'avg': 74.57142857142857, 'date': '2017-03-28', 'max': 78.0, 'min': 69.0},\n",
       " {'avg': 73.0, 'date': '2017-03-29', 'max': 77.0, 'min': 68.0},\n",
       " {'avg': 76.16666666666667, 'date': '2017-03-30', 'max': 78.0, 'min': 73.0},\n",
       " {'avg': 75.28571428571429, 'date': '2017-03-31', 'max': 78.0, 'min': 71.0},\n",
       " {'avg': 75.5, 'date': '2017-04-01', 'max': 80.0, 'min': 69.0},\n",
       " {'avg': 75.33333333333333, 'date': '2017-04-02', 'max': 79.0, 'min': 71.0},\n",
       " {'avg': 74.42857142857143, 'date': '2017-04-03', 'max': 77.0, 'min': 70.0},\n",
       " {'avg': 74.14285714285714, 'date': '2017-04-04', 'max': 78.0, 'min': 67.0},\n",
       " {'avg': 73.85714285714286, 'date': '2017-04-05', 'max': 78.0, 'min': 69.0},\n",
       " {'avg': 73.42857142857143, 'date': '2017-04-06', 'max': 77.0, 'min': 67.0},\n",
       " {'avg': 75.83333333333333, 'date': '2017-04-07', 'max': 78.0, 'min': 74.0},\n",
       " {'avg': 75.75, 'date': '2017-04-08', 'max': 77.0, 'min': 73.0},\n",
       " {'avg': 73.33333333333333, 'date': '2017-04-09', 'max': 78.0, 'min': 69.0},\n",
       " {'avg': 73.42857142857143, 'date': '2017-04-10', 'max': 79.0, 'min': 67.0},\n",
       " {'avg': 75.71428571428571, 'date': '2017-04-11', 'max': 82.0, 'min': 70.0},\n",
       " {'avg': 74.57142857142857, 'date': '2017-04-12', 'max': 80.0, 'min': 69.0},\n",
       " {'avg': 74.57142857142857, 'date': '2017-04-13', 'max': 79.0, 'min': 69.0},\n",
       " {'avg': 73.83333333333333, 'date': '2017-04-14', 'max': 77.0, 'min': 70.0},\n",
       " {'avg': 74.0, 'date': '2017-04-15', 'max': 79.0, 'min': 70.0},\n",
       " {'avg': 71.8, 'date': '2017-04-16', 'max': 74.0, 'min': 69.0},\n",
       " {'avg': 70.14285714285714, 'date': '2017-04-17', 'max': 74.0, 'min': 67.0},\n",
       " {'avg': 73.0, 'date': '2017-04-18', 'max': 76.0, 'min': 68.0},\n",
       " {'avg': 73.57142857142857, 'date': '2017-04-19', 'max': 83.0, 'min': 67.0},\n",
       " {'avg': 74.71428571428571, 'date': '2017-04-20', 'max': 78.0, 'min': 69.0},\n",
       " {'avg': 70.85714285714286, 'date': '2017-04-21', 'max': 74.0, 'min': 69.0},\n",
       " {'avg': 73.8, 'date': '2017-04-22', 'max': 76.0, 'min': 72.0},\n",
       " {'avg': 74.5, 'date': '2017-04-23', 'max': 77.0, 'min': 70.0},\n",
       " {'avg': 76.14285714285714, 'date': '2017-04-24', 'max': 80.0, 'min': 68.0},\n",
       " {'avg': 75.57142857142857, 'date': '2017-04-25', 'max': 78.0, 'min': 72.0},\n",
       " {'avg': 77.5, 'date': '2017-04-26', 'max': 81.0, 'min': 74.0},\n",
       " {'avg': 75.57142857142857, 'date': '2017-04-27', 'max': 78.0, 'min': 70.0},\n",
       " {'avg': 73.28571428571429, 'date': '2017-04-28', 'max': 77.0, 'min': 67.0},\n",
       " {'avg': 69.83333333333333, 'date': '2017-04-29', 'max': 72.0, 'min': 66.0},\n",
       " {'avg': 61.5, 'date': '2017-04-30', 'max': 64.0, 'min': 58.0},\n",
       " {'avg': 72.0, 'date': '2017-05-01', 'max': 78.0, 'min': 65.0},\n",
       " {'avg': 76.5, 'date': '2017-05-02', 'max': 79.0, 'min': 73.0},\n",
       " {'avg': 75.6, 'date': '2017-05-03', 'max': 78.0, 'min': 70.0},\n",
       " {'avg': 76.33333333333333, 'date': '2017-05-04', 'max': 78.0, 'min': 74.0},\n",
       " {'avg': 76.33333333333333, 'date': '2017-05-05', 'max': 79.0, 'min': 70.0},\n",
       " {'avg': 77.5, 'date': '2017-05-06', 'max': 80.0, 'min': 74.0},\n",
       " {'avg': 75.4, 'date': '2017-05-07', 'max': 79.0, 'min': 70.0},\n",
       " {'avg': 72.83333333333333, 'date': '2017-05-08', 'max': 80.0, 'min': 66.0},\n",
       " {'avg': 73.4, 'date': '2017-05-09', 'max': 79.0, 'min': 67.0},\n",
       " {'avg': 75.16666666666667, 'date': '2017-05-10', 'max': 78.0, 'min': 72.0},\n",
       " {'avg': 75.6, 'date': '2017-05-11', 'max': 78.0, 'min': 70.0},\n",
       " {'avg': 75.5, 'date': '2017-05-12', 'max': 79.0, 'min': 70.0},\n",
       " {'avg': 75.4, 'date': '2017-05-13', 'max': 79.0, 'min': 71.0},\n",
       " {'avg': 75.4, 'date': '2017-05-14', 'max': 78.0, 'min': 70.0},\n",
       " {'avg': 75.5, 'date': '2017-05-15', 'max': 78.0, 'min': 72.0},\n",
       " {'avg': 75.16666666666667, 'date': '2017-05-16', 'max': 78.0, 'min': 71.0},\n",
       " {'avg': 75.5, 'date': '2017-05-17', 'max': 78.0, 'min': 71.0},\n",
       " {'avg': 71.66666666666667, 'date': '2017-05-18', 'max': 78.0, 'min': 69.0},\n",
       " {'avg': 73.25, 'date': '2017-05-19', 'max': 79.0, 'min': 68.0},\n",
       " {'avg': 75.66666666666667, 'date': '2017-05-20', 'max': 79.0, 'min': 70.0},\n",
       " {'avg': 74.2, 'date': '2017-05-21', 'max': 80.0, 'min': 69.0},\n",
       " {'avg': 75.16666666666667, 'date': '2017-05-22', 'max': 79.0, 'min': 71.0},\n",
       " {'avg': 75.66666666666667, 'date': '2017-05-23', 'max': 87.0, 'min': 69.0},\n",
       " {'avg': 74.66666666666667, 'date': '2017-05-24', 'max': 77.0, 'min': 70.0},\n",
       " {'avg': 74.83333333333333, 'date': '2017-05-25', 'max': 79.0, 'min': 69.0},\n",
       " {'avg': 75.0, 'date': '2017-05-26', 'max': 79.0, 'min': 72.0},\n",
       " {'avg': 74.5, 'date': '2017-05-27', 'max': 79.0, 'min': 69.0},\n",
       " {'avg': 76.5, 'date': '2017-05-28', 'max': 82.0, 'min': 71.0},\n",
       " {'avg': 75.8, 'date': '2017-05-29', 'max': 80.0, 'min': 71.0},\n",
       " {'avg': 75.5, 'date': '2017-05-30', 'max': 81.0, 'min': 72.0},\n",
       " {'avg': 78.0, 'date': '2017-05-31', 'max': 81.0, 'min': 75.0},\n",
       " {'avg': 78.16666666666667, 'date': '2017-06-01', 'max': 81.0, 'min': 74.0},\n",
       " {'avg': 78.16666666666667, 'date': '2017-06-02', 'max': 81.0, 'min': 76.0},\n",
       " {'avg': 77.33333333333333, 'date': '2017-06-03', 'max': 80.0, 'min': 74.0},\n",
       " {'avg': 78.5, 'date': '2017-06-04', 'max': 81.0, 'min': 77.0},\n",
       " {'avg': 77.42857142857143, 'date': '2017-06-05', 'max': 81.0, 'min': 74.0},\n",
       " {'avg': 77.28571428571429, 'date': '2017-06-06', 'max': 80.0, 'min': 74.0},\n",
       " {'avg': 78.14285714285714, 'date': '2017-06-07', 'max': 81.0, 'min': 75.0},\n",
       " {'avg': 77.14285714285714, 'date': '2017-06-08', 'max': 80.0, 'min': 75.0},\n",
       " {'avg': 78.16666666666667, 'date': '2017-06-09', 'max': 81.0, 'min': 72.0},\n",
       " {'avg': 75.16666666666667, 'date': '2017-06-10', 'max': 78.0, 'min': 72.0},\n",
       " {'avg': 77.0, 'date': '2017-06-11', 'max': 81.0, 'min': 73.0},\n",
       " {'avg': 77.66666666666667, 'date': '2017-06-12', 'max': 83.0, 'min': 74.0},\n",
       " {'avg': 76.85714285714286, 'date': '2017-06-13', 'max': 81.0, 'min': 73.0},\n",
       " {'avg': 77.28571428571429, 'date': '2017-06-14', 'max': 80.0, 'min': 74.0},\n",
       " {'avg': 77.14285714285714, 'date': '2017-06-15', 'max': 78.0, 'min': 75.0},\n",
       " {'avg': 77.14285714285714, 'date': '2017-06-16', 'max': 80.0, 'min': 73.0},\n",
       " {'avg': 77.16666666666667, 'date': '2017-06-17', 'max': 80.0, 'min': 72.0},\n",
       " {'avg': 76.0, 'date': '2017-06-18', 'max': 78.0, 'min': 72.0},\n",
       " {'avg': 77.0, 'date': '2017-06-19', 'max': 80.0, 'min': 72.0},\n",
       " {'avg': 75.83333333333333, 'date': '2017-06-20', 'max': 79.0, 'min': 72.0},\n",
       " {'avg': 77.66666666666667, 'date': '2017-06-21', 'max': 82.0, 'min': 74.0},\n",
       " {'avg': 77.66666666666667, 'date': '2017-06-22', 'max': 81.0, 'min': 72.0},\n",
       " {'avg': 75.42857142857143, 'date': '2017-06-23', 'max': 79.0, 'min': 71.0},\n",
       " {'avg': 77.2, 'date': '2017-06-24', 'max': 82.0, 'min': 73.0},\n",
       " {'avg': 76.6, 'date': '2017-06-25', 'max': 80.0, 'min': 71.0},\n",
       " {'avg': 79.0, 'date': '2017-06-26', 'max': 82.0, 'min': 73.0},\n",
       " {'avg': 78.0, 'date': '2017-06-27', 'max': 81.0, 'min': 74.0},\n",
       " {'avg': 77.66666666666667, 'date': '2017-06-28', 'max': 80.0, 'min': 74.0},\n",
       " {'avg': 77.14285714285714, 'date': '2017-06-29', 'max': 79.0, 'min': 76.0},\n",
       " {'avg': 75.71428571428571, 'date': '2017-06-30', 'max': 81.0, 'min': 74.0},\n",
       " {'avg': 77.25, 'date': '2017-07-01', 'max': 80.0, 'min': 74.0},\n",
       " {'avg': 79.2, 'date': '2017-07-02', 'max': 81.0, 'min': 77.0},\n",
       " {'avg': 79.57142857142857, 'date': '2017-07-03', 'max': 87.0, 'min': 76.0},\n",
       " {'avg': 78.0, 'date': '2017-07-04', 'max': 80.0, 'min': 77.0},\n",
       " {'avg': 78.57142857142857, 'date': '2017-07-05', 'max': 81.0, 'min': 75.0},\n",
       " {'avg': 77.16666666666667, 'date': '2017-07-06', 'max': 81.0, 'min': 74.0},\n",
       " {'avg': 77.14285714285714, 'date': '2017-07-07', 'max': 79.0, 'min': 74.0},\n",
       " {'avg': 77.16666666666667, 'date': '2017-07-08', 'max': 81.0, 'min': 71.0},\n",
       " {'avg': 79.33333333333333, 'date': '2017-07-09', 'max': 82.0, 'min': 76.0},\n",
       " {'avg': 77.85714285714286, 'date': '2017-07-10', 'max': 82.0, 'min': 69.0},\n",
       " {'avg': 77.0, 'date': '2017-07-11', 'max': 81.0, 'min': 72.0},\n",
       " {'avg': 78.28571428571429, 'date': '2017-07-12', 'max': 82.0, 'min': 72.0},\n",
       " {'avg': 78.14285714285714, 'date': '2017-07-13', 'max': 81.0, 'min': 74.0},\n",
       " {'avg': 78.83333333333333, 'date': '2017-07-14', 'max': 81.0, 'min': 76.0},\n",
       " {'avg': 80.16666666666667, 'date': '2017-07-15', 'max': 82.0, 'min': 78.0},\n",
       " {'avg': 78.33333333333333, 'date': '2017-07-16', 'max': 82.0, 'min': 75.0},\n",
       " {'avg': 77.83333333333333, 'date': '2017-07-17', 'max': 82.0, 'min': 72.0},\n",
       " {'avg': 79.14285714285714, 'date': '2017-07-18', 'max': 83.0, 'min': 76.0},\n",
       " {'avg': 78.16666666666667, 'date': '2017-07-19', 'max': 81.0, 'min': 74.0},\n",
       " {'avg': 78.42857142857143, 'date': '2017-07-20', 'max': 80.0, 'min': 75.0},\n",
       " {'avg': 78.14285714285714, 'date': '2017-07-21', 'max': 81.0, 'min': 72.0},\n",
       " {'avg': 77.66666666666667, 'date': '2017-07-22', 'max': 81.0, 'min': 72.0},\n",
       " {'avg': 79.6, 'date': '2017-07-23', 'max': 82.0, 'min': 75.0},\n",
       " {'avg': 77.66666666666667, 'date': '2017-07-24', 'max': 79.0, 'min': 75.0},\n",
       " {'avg': 79.28571428571429, 'date': '2017-07-25', 'max': 81.0, 'min': 77.0},\n",
       " {'avg': 78.42857142857143, 'date': '2017-07-26', 'max': 84.0, 'min': 73.0},\n",
       " {'avg': 78.0, 'date': '2017-07-27', 'max': 80.0, 'min': 75.0},\n",
       " {'avg': 79.14285714285714, 'date': '2017-07-28', 'max': 81.0, 'min': 73.0},\n",
       " {'avg': 80.5, 'date': '2017-07-29', 'max': 83.0, 'min': 77.0},\n",
       " {'avg': 80.6, 'date': '2017-07-30', 'max': 84.0, 'min': 78.0},\n",
       " {'avg': 78.71428571428571, 'date': '2017-07-31', 'max': 82.0, 'min': 74.0},\n",
       " {'avg': 74.5, 'date': '2017-08-01', 'max': 77.0, 'min': 72.0},\n",
       " {'avg': 79.0, 'date': '2017-08-02', 'max': 83.0, 'min': 73.0},\n",
       " {'avg': 79.0, 'date': '2017-08-03', 'max': 81.0, 'min': 76.0},\n",
       " {'avg': 80.0, 'date': '2017-08-04', 'max': 82.0, 'min': 77.0},\n",
       " {'avg': 80.0, 'date': '2017-08-05', 'max': 82.0, 'min': 77.0},\n",
       " {'avg': 81.4, 'date': '2017-08-06', 'max': 83.0, 'min': 79.0},\n",
       " {'avg': 80.5, 'date': '2017-08-07', 'max': 83.0, 'min': 78.0},\n",
       " {'avg': 78.5, 'date': '2017-08-08', 'max': 82.0, 'min': 74.0},\n",
       " {'avg': 77.33333333333333, 'date': '2017-08-09', 'max': 81.0, 'min': 71.0},\n",
       " {'avg': 79.25, 'date': '2017-08-10', 'max': 81.0, 'min': 75.0},\n",
       " {'avg': 78.0, 'date': '2017-08-11', 'max': 81.0, 'min': 72.0},\n",
       " {'avg': 79.0, 'date': '2017-08-12', 'max': 83.0, 'min': 74.0},\n",
       " {'avg': 80.6, 'date': '2017-08-13', 'max': 84.0, 'min': 77.0},\n",
       " {'avg': 78.2, 'date': '2017-08-14', 'max': 81.0, 'min': 75.0},\n",
       " {'avg': 77.2, 'date': '2017-08-15', 'max': 82.0, 'min': 70.0},\n",
       " {'avg': 77.0, 'date': '2017-08-16', 'max': 82.0, 'min': 71.0},\n",
       " {'avg': 77.25, 'date': '2017-08-17', 'max': 83.0, 'min': 72.0},\n",
       " {'avg': 78.0, 'date': '2017-08-18', 'max': 80.0, 'min': 76.0},\n",
       " {'avg': 78.75, 'date': '2017-08-19', 'max': 85.0, 'min': 71.0},\n",
       " {'avg': 79.66666666666667, 'date': '2017-08-20', 'max': 81.0, 'min': 78.0},\n",
       " {'avg': 79.5, 'date': '2017-08-21', 'max': 82.0, 'min': 76.0},\n",
       " {'avg': 80.0, 'date': '2017-08-22', 'max': 82.0, 'min': 76.0},\n",
       " {'avg': 80.25, 'date': '2017-08-23', 'max': 82.0, 'min': 76.0}]"
      ]
     },
     "execution_count": 22,
     "metadata": {},
     "output_type": "execute_result"
    }
   ],
   "source": [
    "calc_normals(trip_start)"
   ]
  },
  {
   "cell_type": "code",
   "execution_count": 60,
   "metadata": {
    "collapsed": true
   },
   "outputs": [],
   "source": [
    "date1 = '2012-01-01'\n",
    "date2 = '2012-01-01'\n",
    "error = 0"
   ]
  },
  {
   "cell_type": "code",
   "execution_count": 61,
   "metadata": {
    "collapsed": false
   },
   "outputs": [],
   "source": [
    "if date2 is None:\n",
    "    try:\n",
    "        datetime.datetime.strptime(date1, '%Y-%m-%d')\n",
    "    except ValueError:\n",
    "        print('Invalid date!')\n",
    "        error += 1\n",
    "else:\n",
    "    try:\n",
    "        datetime.datetime.strptime(date1, '%Y-%m-%d')\n",
    "        datetime.datetime.strptime(date2, '%Y-%m-%d')\n",
    "\n",
    "    except ValueError:\n",
    "        print('Invalid date!')\n",
    "        error += 1\n",
    "\n"
   ]
  },
  {
   "cell_type": "code",
   "execution_count": 62,
   "metadata": {
    "collapsed": false
   },
   "outputs": [
    {
     "data": {
      "text/plain": [
       "datetime.datetime(2012, 1, 1, 0, 0)"
      ]
     },
     "execution_count": 62,
     "metadata": {},
     "output_type": "execute_result"
    }
   ],
   "source": [
    "datetime.datetime.strptime(date1, '%Y-%m-%d')"
   ]
  },
  {
   "cell_type": "code",
   "execution_count": 63,
   "metadata": {
    "collapsed": false
   },
   "outputs": [
    {
     "data": {
      "text/plain": [
       "0"
      ]
     },
     "execution_count": 63,
     "metadata": {},
     "output_type": "execute_result"
    }
   ],
   "source": [
    "error"
   ]
  },
  {
   "cell_type": "code",
   "execution_count": null,
   "metadata": {
    "collapsed": true
   },
   "outputs": [],
   "source": []
  }
 ],
 "metadata": {
  "kernelspec": {
   "display_name": "Python 3",
   "language": "python",
   "name": "python3"
  },
  "language_info": {
   "codemirror_mode": {
    "name": "ipython",
    "version": 3
   },
   "file_extension": ".py",
   "mimetype": "text/x-python",
   "name": "python",
   "nbconvert_exporter": "python",
   "pygments_lexer": "ipython3",
   "version": "3.6.0"
  }
 },
 "nbformat": 4,
 "nbformat_minor": 2
}
